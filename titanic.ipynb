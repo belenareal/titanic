{
 "cells": [
  {
   "cell_type": "markdown",
   "metadata": {},
   "source": [
    "## Titanic problem"
   ]
  },
  {
   "cell_type": "markdown",
   "metadata": {},
   "source": [
    "0. Import path"
   ]
  },
  {
   "cell_type": "code",
   "execution_count": 1,
   "metadata": {},
   "outputs": [],
   "source": [
    "# import os as os\n",
    "import pandas as pd\n",
    "import numpy as np\n",
    "# import math\n",
    "# import random\n",
    "\n",
    "# from datetime import datetime\n",
    "# from tqdm.notebook import tqdm \n",
    "# from scipy.stats import binom\n",
    "import matplotlib.pyplot as plt"
   ]
  },
  {
   "cell_type": "markdown",
   "metadata": {},
   "source": [
    "1) load data"
   ]
  },
  {
   "cell_type": "code",
   "execution_count": 2,
   "metadata": {},
   "outputs": [],
   "source": [
    "data_train = pd.read_csv('data/train.csv')\n",
    "\n",
    "data_test = pd.read_csv('data/test.csv')\n",
    "\n",
    "gender_submission = pd.read_csv('data/gender_submission.csv')\n"
   ]
  },
  {
   "cell_type": "code",
   "execution_count": 3,
   "metadata": {},
   "outputs": [
    {
     "data": {
      "text/html": [
       "<div>\n",
       "<style scoped>\n",
       "    .dataframe tbody tr th:only-of-type {\n",
       "        vertical-align: middle;\n",
       "    }\n",
       "\n",
       "    .dataframe tbody tr th {\n",
       "        vertical-align: top;\n",
       "    }\n",
       "\n",
       "    .dataframe thead th {\n",
       "        text-align: right;\n",
       "    }\n",
       "</style>\n",
       "<table border=\"1\" class=\"dataframe\">\n",
       "  <thead>\n",
       "    <tr style=\"text-align: right;\">\n",
       "      <th></th>\n",
       "      <th>PassengerId</th>\n",
       "      <th>Survived</th>\n",
       "      <th>Pclass</th>\n",
       "      <th>Name</th>\n",
       "      <th>Sex</th>\n",
       "      <th>Age</th>\n",
       "      <th>SibSp</th>\n",
       "      <th>Parch</th>\n",
       "      <th>Ticket</th>\n",
       "      <th>Fare</th>\n",
       "      <th>Cabin</th>\n",
       "      <th>Embarked</th>\n",
       "    </tr>\n",
       "  </thead>\n",
       "  <tbody>\n",
       "    <tr>\n",
       "      <th>0</th>\n",
       "      <td>1</td>\n",
       "      <td>0</td>\n",
       "      <td>3</td>\n",
       "      <td>Braund, Mr. Owen Harris</td>\n",
       "      <td>male</td>\n",
       "      <td>22.0</td>\n",
       "      <td>1</td>\n",
       "      <td>0</td>\n",
       "      <td>A/5 21171</td>\n",
       "      <td>7.2500</td>\n",
       "      <td>NaN</td>\n",
       "      <td>S</td>\n",
       "    </tr>\n",
       "    <tr>\n",
       "      <th>1</th>\n",
       "      <td>2</td>\n",
       "      <td>1</td>\n",
       "      <td>1</td>\n",
       "      <td>Cumings, Mrs. John Bradley (Florence Briggs Th...</td>\n",
       "      <td>female</td>\n",
       "      <td>38.0</td>\n",
       "      <td>1</td>\n",
       "      <td>0</td>\n",
       "      <td>PC 17599</td>\n",
       "      <td>71.2833</td>\n",
       "      <td>C85</td>\n",
       "      <td>C</td>\n",
       "    </tr>\n",
       "    <tr>\n",
       "      <th>2</th>\n",
       "      <td>3</td>\n",
       "      <td>1</td>\n",
       "      <td>3</td>\n",
       "      <td>Heikkinen, Miss. Laina</td>\n",
       "      <td>female</td>\n",
       "      <td>26.0</td>\n",
       "      <td>0</td>\n",
       "      <td>0</td>\n",
       "      <td>STON/O2. 3101282</td>\n",
       "      <td>7.9250</td>\n",
       "      <td>NaN</td>\n",
       "      <td>S</td>\n",
       "    </tr>\n",
       "    <tr>\n",
       "      <th>3</th>\n",
       "      <td>4</td>\n",
       "      <td>1</td>\n",
       "      <td>1</td>\n",
       "      <td>Futrelle, Mrs. Jacques Heath (Lily May Peel)</td>\n",
       "      <td>female</td>\n",
       "      <td>35.0</td>\n",
       "      <td>1</td>\n",
       "      <td>0</td>\n",
       "      <td>113803</td>\n",
       "      <td>53.1000</td>\n",
       "      <td>C123</td>\n",
       "      <td>S</td>\n",
       "    </tr>\n",
       "    <tr>\n",
       "      <th>4</th>\n",
       "      <td>5</td>\n",
       "      <td>0</td>\n",
       "      <td>3</td>\n",
       "      <td>Allen, Mr. William Henry</td>\n",
       "      <td>male</td>\n",
       "      <td>35.0</td>\n",
       "      <td>0</td>\n",
       "      <td>0</td>\n",
       "      <td>373450</td>\n",
       "      <td>8.0500</td>\n",
       "      <td>NaN</td>\n",
       "      <td>S</td>\n",
       "    </tr>\n",
       "    <tr>\n",
       "      <th>...</th>\n",
       "      <td>...</td>\n",
       "      <td>...</td>\n",
       "      <td>...</td>\n",
       "      <td>...</td>\n",
       "      <td>...</td>\n",
       "      <td>...</td>\n",
       "      <td>...</td>\n",
       "      <td>...</td>\n",
       "      <td>...</td>\n",
       "      <td>...</td>\n",
       "      <td>...</td>\n",
       "      <td>...</td>\n",
       "    </tr>\n",
       "    <tr>\n",
       "      <th>886</th>\n",
       "      <td>887</td>\n",
       "      <td>0</td>\n",
       "      <td>2</td>\n",
       "      <td>Montvila, Rev. Juozas</td>\n",
       "      <td>male</td>\n",
       "      <td>27.0</td>\n",
       "      <td>0</td>\n",
       "      <td>0</td>\n",
       "      <td>211536</td>\n",
       "      <td>13.0000</td>\n",
       "      <td>NaN</td>\n",
       "      <td>S</td>\n",
       "    </tr>\n",
       "    <tr>\n",
       "      <th>887</th>\n",
       "      <td>888</td>\n",
       "      <td>1</td>\n",
       "      <td>1</td>\n",
       "      <td>Graham, Miss. Margaret Edith</td>\n",
       "      <td>female</td>\n",
       "      <td>19.0</td>\n",
       "      <td>0</td>\n",
       "      <td>0</td>\n",
       "      <td>112053</td>\n",
       "      <td>30.0000</td>\n",
       "      <td>B42</td>\n",
       "      <td>S</td>\n",
       "    </tr>\n",
       "    <tr>\n",
       "      <th>888</th>\n",
       "      <td>889</td>\n",
       "      <td>0</td>\n",
       "      <td>3</td>\n",
       "      <td>Johnston, Miss. Catherine Helen \"Carrie\"</td>\n",
       "      <td>female</td>\n",
       "      <td>NaN</td>\n",
       "      <td>1</td>\n",
       "      <td>2</td>\n",
       "      <td>W./C. 6607</td>\n",
       "      <td>23.4500</td>\n",
       "      <td>NaN</td>\n",
       "      <td>S</td>\n",
       "    </tr>\n",
       "    <tr>\n",
       "      <th>889</th>\n",
       "      <td>890</td>\n",
       "      <td>1</td>\n",
       "      <td>1</td>\n",
       "      <td>Behr, Mr. Karl Howell</td>\n",
       "      <td>male</td>\n",
       "      <td>26.0</td>\n",
       "      <td>0</td>\n",
       "      <td>0</td>\n",
       "      <td>111369</td>\n",
       "      <td>30.0000</td>\n",
       "      <td>C148</td>\n",
       "      <td>C</td>\n",
       "    </tr>\n",
       "    <tr>\n",
       "      <th>890</th>\n",
       "      <td>891</td>\n",
       "      <td>0</td>\n",
       "      <td>3</td>\n",
       "      <td>Dooley, Mr. Patrick</td>\n",
       "      <td>male</td>\n",
       "      <td>32.0</td>\n",
       "      <td>0</td>\n",
       "      <td>0</td>\n",
       "      <td>370376</td>\n",
       "      <td>7.7500</td>\n",
       "      <td>NaN</td>\n",
       "      <td>Q</td>\n",
       "    </tr>\n",
       "  </tbody>\n",
       "</table>\n",
       "<p>891 rows × 12 columns</p>\n",
       "</div>"
      ],
      "text/plain": [
       "     PassengerId  Survived  Pclass  \\\n",
       "0              1         0       3   \n",
       "1              2         1       1   \n",
       "2              3         1       3   \n",
       "3              4         1       1   \n",
       "4              5         0       3   \n",
       "..           ...       ...     ...   \n",
       "886          887         0       2   \n",
       "887          888         1       1   \n",
       "888          889         0       3   \n",
       "889          890         1       1   \n",
       "890          891         0       3   \n",
       "\n",
       "                                                  Name     Sex   Age  SibSp  \\\n",
       "0                              Braund, Mr. Owen Harris    male  22.0      1   \n",
       "1    Cumings, Mrs. John Bradley (Florence Briggs Th...  female  38.0      1   \n",
       "2                               Heikkinen, Miss. Laina  female  26.0      0   \n",
       "3         Futrelle, Mrs. Jacques Heath (Lily May Peel)  female  35.0      1   \n",
       "4                             Allen, Mr. William Henry    male  35.0      0   \n",
       "..                                                 ...     ...   ...    ...   \n",
       "886                              Montvila, Rev. Juozas    male  27.0      0   \n",
       "887                       Graham, Miss. Margaret Edith  female  19.0      0   \n",
       "888           Johnston, Miss. Catherine Helen \"Carrie\"  female   NaN      1   \n",
       "889                              Behr, Mr. Karl Howell    male  26.0      0   \n",
       "890                                Dooley, Mr. Patrick    male  32.0      0   \n",
       "\n",
       "     Parch            Ticket     Fare Cabin Embarked  \n",
       "0        0         A/5 21171   7.2500   NaN        S  \n",
       "1        0          PC 17599  71.2833   C85        C  \n",
       "2        0  STON/O2. 3101282   7.9250   NaN        S  \n",
       "3        0            113803  53.1000  C123        S  \n",
       "4        0            373450   8.0500   NaN        S  \n",
       "..     ...               ...      ...   ...      ...  \n",
       "886      0            211536  13.0000   NaN        S  \n",
       "887      0            112053  30.0000   B42        S  \n",
       "888      2        W./C. 6607  23.4500   NaN        S  \n",
       "889      0            111369  30.0000  C148        C  \n",
       "890      0            370376   7.7500   NaN        Q  \n",
       "\n",
       "[891 rows x 12 columns]"
      ]
     },
     "metadata": {},
     "output_type": "display_data"
    }
   ],
   "source": [
    "display(data_train)"
   ]
  },
  {
   "cell_type": "code",
   "execution_count": 4,
   "metadata": {},
   "outputs": [
    {
     "name": "stdout",
     "output_type": "stream",
     "text": [
      "<class 'pandas.core.frame.DataFrame'>\n",
      "RangeIndex: 891 entries, 0 to 890\n",
      "Data columns (total 12 columns):\n",
      " #   Column       Non-Null Count  Dtype  \n",
      "---  ------       --------------  -----  \n",
      " 0   PassengerId  891 non-null    int64  \n",
      " 1   Survived     891 non-null    int64  \n",
      " 2   Pclass       891 non-null    int64  \n",
      " 3   Name         891 non-null    object \n",
      " 4   Sex          891 non-null    object \n",
      " 5   Age          714 non-null    float64\n",
      " 6   SibSp        891 non-null    int64  \n",
      " 7   Parch        891 non-null    int64  \n",
      " 8   Ticket       891 non-null    object \n",
      " 9   Fare         891 non-null    float64\n",
      " 10  Cabin        204 non-null    object \n",
      " 11  Embarked     889 non-null    object \n",
      "dtypes: float64(2), int64(5), object(5)\n",
      "memory usage: 83.7+ KB\n"
     ]
    }
   ],
   "source": [
    "data_train.info()"
   ]
  },
  {
   "cell_type": "code",
   "execution_count": 5,
   "metadata": {},
   "outputs": [
    {
     "data": {
      "text/html": [
       "<div>\n",
       "<style scoped>\n",
       "    .dataframe tbody tr th:only-of-type {\n",
       "        vertical-align: middle;\n",
       "    }\n",
       "\n",
       "    .dataframe tbody tr th {\n",
       "        vertical-align: top;\n",
       "    }\n",
       "\n",
       "    .dataframe thead th {\n",
       "        text-align: right;\n",
       "    }\n",
       "</style>\n",
       "<table border=\"1\" class=\"dataframe\">\n",
       "  <thead>\n",
       "    <tr style=\"text-align: right;\">\n",
       "      <th></th>\n",
       "      <th>Survived</th>\n",
       "    </tr>\n",
       "  </thead>\n",
       "  <tbody>\n",
       "    <tr>\n",
       "      <th>0</th>\n",
       "      <td>549</td>\n",
       "    </tr>\n",
       "    <tr>\n",
       "      <th>1</th>\n",
       "      <td>342</td>\n",
       "    </tr>\n",
       "  </tbody>\n",
       "</table>\n",
       "</div>"
      ],
      "text/plain": [
       "   Survived\n",
       "0       549\n",
       "1       342"
      ]
     },
     "execution_count": 5,
     "metadata": {},
     "output_type": "execute_result"
    }
   ],
   "source": [
    "pd.DataFrame(data_train.Survived.value_counts())"
   ]
  },
  {
   "cell_type": "code",
   "execution_count": 6,
   "metadata": {},
   "outputs": [
    {
     "data": {
      "text/html": [
       "<div>\n",
       "<style scoped>\n",
       "    .dataframe tbody tr th:only-of-type {\n",
       "        vertical-align: middle;\n",
       "    }\n",
       "\n",
       "    .dataframe tbody tr th {\n",
       "        vertical-align: top;\n",
       "    }\n",
       "\n",
       "    .dataframe thead th {\n",
       "        text-align: right;\n",
       "    }\n",
       "</style>\n",
       "<table border=\"1\" class=\"dataframe\">\n",
       "  <thead>\n",
       "    <tr style=\"text-align: right;\">\n",
       "      <th></th>\n",
       "      <th>Survived</th>\n",
       "    </tr>\n",
       "  </thead>\n",
       "  <tbody>\n",
       "    <tr>\n",
       "      <th>0</th>\n",
       "      <td>0.616162</td>\n",
       "    </tr>\n",
       "    <tr>\n",
       "      <th>1</th>\n",
       "      <td>0.383838</td>\n",
       "    </tr>\n",
       "  </tbody>\n",
       "</table>\n",
       "</div>"
      ],
      "text/plain": [
       "   Survived\n",
       "0  0.616162\n",
       "1  0.383838"
      ]
     },
     "execution_count": 6,
     "metadata": {},
     "output_type": "execute_result"
    }
   ],
   "source": [
    "pd.DataFrame(data_train.Survived.value_counts(normalize=True))"
   ]
  },
  {
   "cell_type": "code",
   "execution_count": 7,
   "metadata": {},
   "outputs": [],
   "source": [
    "data_test.PassengerId\n",
    "# data_test['Survived'] =  np.repeat(0,418)\n",
    "data_test['Survived'] =  0"
   ]
  },
  {
   "cell_type": "code",
   "execution_count": 8,
   "metadata": {},
   "outputs": [
    {
     "data": {
      "text/plain": [
       "(418, 12)"
      ]
     },
     "execution_count": 8,
     "metadata": {},
     "output_type": "execute_result"
    }
   ],
   "source": [
    "data_test.shape"
   ]
  },
  {
   "cell_type": "code",
   "execution_count": 9,
   "metadata": {},
   "outputs": [
    {
     "data": {
      "text/html": [
       "<div>\n",
       "<style scoped>\n",
       "    .dataframe tbody tr th:only-of-type {\n",
       "        vertical-align: middle;\n",
       "    }\n",
       "\n",
       "    .dataframe tbody tr th {\n",
       "        vertical-align: top;\n",
       "    }\n",
       "\n",
       "    .dataframe thead th {\n",
       "        text-align: right;\n",
       "    }\n",
       "</style>\n",
       "<table border=\"1\" class=\"dataframe\">\n",
       "  <thead>\n",
       "    <tr style=\"text-align: right;\">\n",
       "      <th></th>\n",
       "      <th>PassengerId</th>\n",
       "      <th>Pclass</th>\n",
       "      <th>Name</th>\n",
       "      <th>Sex</th>\n",
       "      <th>Age</th>\n",
       "      <th>SibSp</th>\n",
       "      <th>Parch</th>\n",
       "      <th>Ticket</th>\n",
       "      <th>Fare</th>\n",
       "      <th>Cabin</th>\n",
       "      <th>Embarked</th>\n",
       "      <th>Survived</th>\n",
       "    </tr>\n",
       "  </thead>\n",
       "  <tbody>\n",
       "    <tr>\n",
       "      <th>0</th>\n",
       "      <td>892</td>\n",
       "      <td>3</td>\n",
       "      <td>Kelly, Mr. James</td>\n",
       "      <td>male</td>\n",
       "      <td>34.5</td>\n",
       "      <td>0</td>\n",
       "      <td>0</td>\n",
       "      <td>330911</td>\n",
       "      <td>7.8292</td>\n",
       "      <td>NaN</td>\n",
       "      <td>Q</td>\n",
       "      <td>0</td>\n",
       "    </tr>\n",
       "    <tr>\n",
       "      <th>1</th>\n",
       "      <td>893</td>\n",
       "      <td>3</td>\n",
       "      <td>Wilkes, Mrs. James (Ellen Needs)</td>\n",
       "      <td>female</td>\n",
       "      <td>47.0</td>\n",
       "      <td>1</td>\n",
       "      <td>0</td>\n",
       "      <td>363272</td>\n",
       "      <td>7.0000</td>\n",
       "      <td>NaN</td>\n",
       "      <td>S</td>\n",
       "      <td>0</td>\n",
       "    </tr>\n",
       "    <tr>\n",
       "      <th>2</th>\n",
       "      <td>894</td>\n",
       "      <td>2</td>\n",
       "      <td>Myles, Mr. Thomas Francis</td>\n",
       "      <td>male</td>\n",
       "      <td>62.0</td>\n",
       "      <td>0</td>\n",
       "      <td>0</td>\n",
       "      <td>240276</td>\n",
       "      <td>9.6875</td>\n",
       "      <td>NaN</td>\n",
       "      <td>Q</td>\n",
       "      <td>0</td>\n",
       "    </tr>\n",
       "    <tr>\n",
       "      <th>3</th>\n",
       "      <td>895</td>\n",
       "      <td>3</td>\n",
       "      <td>Wirz, Mr. Albert</td>\n",
       "      <td>male</td>\n",
       "      <td>27.0</td>\n",
       "      <td>0</td>\n",
       "      <td>0</td>\n",
       "      <td>315154</td>\n",
       "      <td>8.6625</td>\n",
       "      <td>NaN</td>\n",
       "      <td>S</td>\n",
       "      <td>0</td>\n",
       "    </tr>\n",
       "    <tr>\n",
       "      <th>4</th>\n",
       "      <td>896</td>\n",
       "      <td>3</td>\n",
       "      <td>Hirvonen, Mrs. Alexander (Helga E Lindqvist)</td>\n",
       "      <td>female</td>\n",
       "      <td>22.0</td>\n",
       "      <td>1</td>\n",
       "      <td>1</td>\n",
       "      <td>3101298</td>\n",
       "      <td>12.2875</td>\n",
       "      <td>NaN</td>\n",
       "      <td>S</td>\n",
       "      <td>0</td>\n",
       "    </tr>\n",
       "  </tbody>\n",
       "</table>\n",
       "</div>"
      ],
      "text/plain": [
       "   PassengerId  Pclass                                          Name     Sex  \\\n",
       "0          892       3                              Kelly, Mr. James    male   \n",
       "1          893       3              Wilkes, Mrs. James (Ellen Needs)  female   \n",
       "2          894       2                     Myles, Mr. Thomas Francis    male   \n",
       "3          895       3                              Wirz, Mr. Albert    male   \n",
       "4          896       3  Hirvonen, Mrs. Alexander (Helga E Lindqvist)  female   \n",
       "\n",
       "    Age  SibSp  Parch   Ticket     Fare Cabin Embarked  Survived  \n",
       "0  34.5      0      0   330911   7.8292   NaN        Q         0  \n",
       "1  47.0      1      0   363272   7.0000   NaN        S         0  \n",
       "2  62.0      0      0   240276   9.6875   NaN        Q         0  \n",
       "3  27.0      0      0   315154   8.6625   NaN        S         0  \n",
       "4  22.0      1      1  3101298  12.2875   NaN        S         0  "
      ]
     },
     "execution_count": 9,
     "metadata": {},
     "output_type": "execute_result"
    }
   ],
   "source": [
    "data_test.head()"
   ]
  },
  {
   "cell_type": "code",
   "execution_count": 10,
   "metadata": {},
   "outputs": [],
   "source": [
    "diccionario = {'PassengerId' : data_test['PassengerId'], 'Survived' : data_test['Survived']}"
   ]
  },
  {
   "cell_type": "code",
   "execution_count": 11,
   "metadata": {},
   "outputs": [],
   "source": [
    "submit = pd.DataFrame(diccionario)\n",
    "submit.to_csv('data/theyallperish_1.csv', index=False)"
   ]
  },
  {
   "cell_type": "markdown",
   "metadata": {},
   "source": [
    "2) MUJERES"
   ]
  },
  {
   "cell_type": "code",
   "execution_count": 12,
   "metadata": {},
   "outputs": [
    {
     "data": {
      "text/plain": [
       "male      577\n",
       "female    314\n",
       "Name: Sex, dtype: int64"
      ]
     },
     "execution_count": 12,
     "metadata": {},
     "output_type": "execute_result"
    }
   ],
   "source": [
    "data_train.Sex.value_counts()"
   ]
  },
  {
   "cell_type": "code",
   "execution_count": 13,
   "metadata": {},
   "outputs": [
    {
     "data": {
      "text/html": [
       "<div>\n",
       "<style scoped>\n",
       "    .dataframe tbody tr th:only-of-type {\n",
       "        vertical-align: middle;\n",
       "    }\n",
       "\n",
       "    .dataframe tbody tr th {\n",
       "        vertical-align: top;\n",
       "    }\n",
       "\n",
       "    .dataframe thead th {\n",
       "        text-align: right;\n",
       "    }\n",
       "</style>\n",
       "<table border=\"1\" class=\"dataframe\">\n",
       "  <thead>\n",
       "    <tr style=\"text-align: right;\">\n",
       "      <th>Survived</th>\n",
       "      <th>0</th>\n",
       "      <th>1</th>\n",
       "    </tr>\n",
       "    <tr>\n",
       "      <th>Sex</th>\n",
       "      <th></th>\n",
       "      <th></th>\n",
       "    </tr>\n",
       "  </thead>\n",
       "  <tbody>\n",
       "    <tr>\n",
       "      <th>female</th>\n",
       "      <td>0.090909</td>\n",
       "      <td>0.261504</td>\n",
       "    </tr>\n",
       "    <tr>\n",
       "      <th>male</th>\n",
       "      <td>0.525253</td>\n",
       "      <td>0.122334</td>\n",
       "    </tr>\n",
       "  </tbody>\n",
       "</table>\n",
       "</div>"
      ],
      "text/plain": [
       "Survived         0         1\n",
       "Sex                         \n",
       "female    0.090909  0.261504\n",
       "male      0.525253  0.122334"
      ]
     },
     "execution_count": 13,
     "metadata": {},
     "output_type": "execute_result"
    }
   ],
   "source": [
    "pd.crosstab(data_train['Sex'], data_train['Survived'], normalize='all')"
   ]
  },
  {
   "cell_type": "code",
   "execution_count": 14,
   "metadata": {},
   "outputs": [
    {
     "data": {
      "text/html": [
       "<div>\n",
       "<style scoped>\n",
       "    .dataframe tbody tr th:only-of-type {\n",
       "        vertical-align: middle;\n",
       "    }\n",
       "\n",
       "    .dataframe tbody tr th {\n",
       "        vertical-align: top;\n",
       "    }\n",
       "\n",
       "    .dataframe thead th {\n",
       "        text-align: right;\n",
       "    }\n",
       "</style>\n",
       "<table border=\"1\" class=\"dataframe\">\n",
       "  <thead>\n",
       "    <tr style=\"text-align: right;\">\n",
       "      <th></th>\n",
       "      <th>PassengerId</th>\n",
       "      <th>Pclass</th>\n",
       "      <th>Name</th>\n",
       "      <th>Sex</th>\n",
       "      <th>Age</th>\n",
       "      <th>SibSp</th>\n",
       "      <th>Parch</th>\n",
       "      <th>Ticket</th>\n",
       "      <th>Fare</th>\n",
       "      <th>Cabin</th>\n",
       "      <th>Embarked</th>\n",
       "      <th>Survived</th>\n",
       "    </tr>\n",
       "  </thead>\n",
       "  <tbody>\n",
       "    <tr>\n",
       "      <th>0</th>\n",
       "      <td>892</td>\n",
       "      <td>3</td>\n",
       "      <td>Kelly, Mr. James</td>\n",
       "      <td>male</td>\n",
       "      <td>34.5</td>\n",
       "      <td>0</td>\n",
       "      <td>0</td>\n",
       "      <td>330911</td>\n",
       "      <td>7.8292</td>\n",
       "      <td>NaN</td>\n",
       "      <td>Q</td>\n",
       "      <td>0</td>\n",
       "    </tr>\n",
       "    <tr>\n",
       "      <th>1</th>\n",
       "      <td>893</td>\n",
       "      <td>3</td>\n",
       "      <td>Wilkes, Mrs. James (Ellen Needs)</td>\n",
       "      <td>female</td>\n",
       "      <td>47.0</td>\n",
       "      <td>1</td>\n",
       "      <td>0</td>\n",
       "      <td>363272</td>\n",
       "      <td>7.0000</td>\n",
       "      <td>NaN</td>\n",
       "      <td>S</td>\n",
       "      <td>1</td>\n",
       "    </tr>\n",
       "    <tr>\n",
       "      <th>2</th>\n",
       "      <td>894</td>\n",
       "      <td>2</td>\n",
       "      <td>Myles, Mr. Thomas Francis</td>\n",
       "      <td>male</td>\n",
       "      <td>62.0</td>\n",
       "      <td>0</td>\n",
       "      <td>0</td>\n",
       "      <td>240276</td>\n",
       "      <td>9.6875</td>\n",
       "      <td>NaN</td>\n",
       "      <td>Q</td>\n",
       "      <td>0</td>\n",
       "    </tr>\n",
       "    <tr>\n",
       "      <th>3</th>\n",
       "      <td>895</td>\n",
       "      <td>3</td>\n",
       "      <td>Wirz, Mr. Albert</td>\n",
       "      <td>male</td>\n",
       "      <td>27.0</td>\n",
       "      <td>0</td>\n",
       "      <td>0</td>\n",
       "      <td>315154</td>\n",
       "      <td>8.6625</td>\n",
       "      <td>NaN</td>\n",
       "      <td>S</td>\n",
       "      <td>0</td>\n",
       "    </tr>\n",
       "    <tr>\n",
       "      <th>4</th>\n",
       "      <td>896</td>\n",
       "      <td>3</td>\n",
       "      <td>Hirvonen, Mrs. Alexander (Helga E Lindqvist)</td>\n",
       "      <td>female</td>\n",
       "      <td>22.0</td>\n",
       "      <td>1</td>\n",
       "      <td>1</td>\n",
       "      <td>3101298</td>\n",
       "      <td>12.2875</td>\n",
       "      <td>NaN</td>\n",
       "      <td>S</td>\n",
       "      <td>1</td>\n",
       "    </tr>\n",
       "    <tr>\n",
       "      <th>...</th>\n",
       "      <td>...</td>\n",
       "      <td>...</td>\n",
       "      <td>...</td>\n",
       "      <td>...</td>\n",
       "      <td>...</td>\n",
       "      <td>...</td>\n",
       "      <td>...</td>\n",
       "      <td>...</td>\n",
       "      <td>...</td>\n",
       "      <td>...</td>\n",
       "      <td>...</td>\n",
       "      <td>...</td>\n",
       "    </tr>\n",
       "    <tr>\n",
       "      <th>413</th>\n",
       "      <td>1305</td>\n",
       "      <td>3</td>\n",
       "      <td>Spector, Mr. Woolf</td>\n",
       "      <td>male</td>\n",
       "      <td>NaN</td>\n",
       "      <td>0</td>\n",
       "      <td>0</td>\n",
       "      <td>A.5. 3236</td>\n",
       "      <td>8.0500</td>\n",
       "      <td>NaN</td>\n",
       "      <td>S</td>\n",
       "      <td>0</td>\n",
       "    </tr>\n",
       "    <tr>\n",
       "      <th>414</th>\n",
       "      <td>1306</td>\n",
       "      <td>1</td>\n",
       "      <td>Oliva y Ocana, Dona. Fermina</td>\n",
       "      <td>female</td>\n",
       "      <td>39.0</td>\n",
       "      <td>0</td>\n",
       "      <td>0</td>\n",
       "      <td>PC 17758</td>\n",
       "      <td>108.9000</td>\n",
       "      <td>C105</td>\n",
       "      <td>C</td>\n",
       "      <td>1</td>\n",
       "    </tr>\n",
       "    <tr>\n",
       "      <th>415</th>\n",
       "      <td>1307</td>\n",
       "      <td>3</td>\n",
       "      <td>Saether, Mr. Simon Sivertsen</td>\n",
       "      <td>male</td>\n",
       "      <td>38.5</td>\n",
       "      <td>0</td>\n",
       "      <td>0</td>\n",
       "      <td>SOTON/O.Q. 3101262</td>\n",
       "      <td>7.2500</td>\n",
       "      <td>NaN</td>\n",
       "      <td>S</td>\n",
       "      <td>0</td>\n",
       "    </tr>\n",
       "    <tr>\n",
       "      <th>416</th>\n",
       "      <td>1308</td>\n",
       "      <td>3</td>\n",
       "      <td>Ware, Mr. Frederick</td>\n",
       "      <td>male</td>\n",
       "      <td>NaN</td>\n",
       "      <td>0</td>\n",
       "      <td>0</td>\n",
       "      <td>359309</td>\n",
       "      <td>8.0500</td>\n",
       "      <td>NaN</td>\n",
       "      <td>S</td>\n",
       "      <td>0</td>\n",
       "    </tr>\n",
       "    <tr>\n",
       "      <th>417</th>\n",
       "      <td>1309</td>\n",
       "      <td>3</td>\n",
       "      <td>Peter, Master. Michael J</td>\n",
       "      <td>male</td>\n",
       "      <td>NaN</td>\n",
       "      <td>1</td>\n",
       "      <td>1</td>\n",
       "      <td>2668</td>\n",
       "      <td>22.3583</td>\n",
       "      <td>NaN</td>\n",
       "      <td>C</td>\n",
       "      <td>0</td>\n",
       "    </tr>\n",
       "  </tbody>\n",
       "</table>\n",
       "<p>418 rows × 12 columns</p>\n",
       "</div>"
      ],
      "text/plain": [
       "     PassengerId  Pclass                                          Name  \\\n",
       "0            892       3                              Kelly, Mr. James   \n",
       "1            893       3              Wilkes, Mrs. James (Ellen Needs)   \n",
       "2            894       2                     Myles, Mr. Thomas Francis   \n",
       "3            895       3                              Wirz, Mr. Albert   \n",
       "4            896       3  Hirvonen, Mrs. Alexander (Helga E Lindqvist)   \n",
       "..           ...     ...                                           ...   \n",
       "413         1305       3                            Spector, Mr. Woolf   \n",
       "414         1306       1                  Oliva y Ocana, Dona. Fermina   \n",
       "415         1307       3                  Saether, Mr. Simon Sivertsen   \n",
       "416         1308       3                           Ware, Mr. Frederick   \n",
       "417         1309       3                      Peter, Master. Michael J   \n",
       "\n",
       "        Sex   Age  SibSp  Parch              Ticket      Fare Cabin Embarked  \\\n",
       "0      male  34.5      0      0              330911    7.8292   NaN        Q   \n",
       "1    female  47.0      1      0              363272    7.0000   NaN        S   \n",
       "2      male  62.0      0      0              240276    9.6875   NaN        Q   \n",
       "3      male  27.0      0      0              315154    8.6625   NaN        S   \n",
       "4    female  22.0      1      1             3101298   12.2875   NaN        S   \n",
       "..      ...   ...    ...    ...                 ...       ...   ...      ...   \n",
       "413    male   NaN      0      0           A.5. 3236    8.0500   NaN        S   \n",
       "414  female  39.0      0      0            PC 17758  108.9000  C105        C   \n",
       "415    male  38.5      0      0  SOTON/O.Q. 3101262    7.2500   NaN        S   \n",
       "416    male   NaN      0      0              359309    8.0500   NaN        S   \n",
       "417    male   NaN      1      1                2668   22.3583   NaN        C   \n",
       "\n",
       "     Survived  \n",
       "0           0  \n",
       "1           1  \n",
       "2           0  \n",
       "3           0  \n",
       "4           1  \n",
       "..        ...  \n",
       "413         0  \n",
       "414         1  \n",
       "415         0  \n",
       "416         0  \n",
       "417         0  \n",
       "\n",
       "[418 rows x 12 columns]"
      ]
     },
     "metadata": {},
     "output_type": "display_data"
    }
   ],
   "source": [
    "test = pd.DataFrame(data_test)\n",
    "\n",
    "test['Survived'] = 0\n",
    "\n",
    "test.loc[test['Sex'] == 'female', 'Survived'] = 1\n",
    "\n",
    "display(test)\n",
    "        "
   ]
  },
  {
   "cell_type": "code",
   "execution_count": 15,
   "metadata": {},
   "outputs": [],
   "source": [
    "diccionario = {'PassengerId' : test['PassengerId'], 'Survived' : test['Survived']}\n",
    "submit = pd.DataFrame(diccionario)\n",
    "submit.to_csv('data/theyallperish_2.csv', index=False)"
   ]
  },
  {
   "cell_type": "markdown",
   "metadata": {},
   "source": [
    "3) Edad"
   ]
  },
  {
   "cell_type": "code",
   "execution_count": 16,
   "metadata": {},
   "outputs": [
    {
     "data": {
      "text/plain": [
       "count    714.000000\n",
       "mean      29.699118\n",
       "std       14.526497\n",
       "min        0.420000\n",
       "25%       20.125000\n",
       "50%       28.000000\n",
       "75%       38.000000\n",
       "max       80.000000\n",
       "Name: Age, dtype: float64"
      ]
     },
     "execution_count": 16,
     "metadata": {},
     "output_type": "execute_result"
    }
   ],
   "source": [
    "data_train['Age'].describe()"
   ]
  },
  {
   "cell_type": "code",
   "execution_count": 17,
   "metadata": {},
   "outputs": [],
   "source": [
    "train = data_train\n",
    "train['Child'] = 0\n",
    "train.loc[train['Age'] < 18, 'Child'] = 1"
   ]
  },
  {
   "cell_type": "code",
   "execution_count": 18,
   "metadata": {},
   "outputs": [
    {
     "data": {
      "text/plain": [
       "0      0\n",
       "1      0\n",
       "2      0\n",
       "3      0\n",
       "4      0\n",
       "      ..\n",
       "886    0\n",
       "887    0\n",
       "888    0\n",
       "889    0\n",
       "890    0\n",
       "Name: Child, Length: 891, dtype: int64"
      ]
     },
     "execution_count": 18,
     "metadata": {},
     "output_type": "execute_result"
    }
   ],
   "source": [
    "train.Child.fillna(1)"
   ]
  },
  {
   "cell_type": "code",
   "execution_count": 19,
   "metadata": {},
   "outputs": [],
   "source": [
    "train = train[['Survived', 'Child', 'Sex']]"
   ]
  },
  {
   "cell_type": "code",
   "execution_count": 20,
   "metadata": {},
   "outputs": [
    {
     "data": {
      "text/html": [
       "<div>\n",
       "<style scoped>\n",
       "    .dataframe tbody tr th:only-of-type {\n",
       "        vertical-align: middle;\n",
       "    }\n",
       "\n",
       "    .dataframe tbody tr th {\n",
       "        vertical-align: top;\n",
       "    }\n",
       "\n",
       "    .dataframe thead th {\n",
       "        text-align: right;\n",
       "    }\n",
       "</style>\n",
       "<table border=\"1\" class=\"dataframe\">\n",
       "  <thead>\n",
       "    <tr style=\"text-align: right;\">\n",
       "      <th></th>\n",
       "      <th>Child</th>\n",
       "      <th>Sex</th>\n",
       "      <th>Survived</th>\n",
       "    </tr>\n",
       "  </thead>\n",
       "  <tbody>\n",
       "    <tr>\n",
       "      <th>0</th>\n",
       "      <td>0</td>\n",
       "      <td>female</td>\n",
       "      <td>195</td>\n",
       "    </tr>\n",
       "    <tr>\n",
       "      <th>1</th>\n",
       "      <td>0</td>\n",
       "      <td>male</td>\n",
       "      <td>86</td>\n",
       "    </tr>\n",
       "    <tr>\n",
       "      <th>2</th>\n",
       "      <td>1</td>\n",
       "      <td>female</td>\n",
       "      <td>38</td>\n",
       "    </tr>\n",
       "    <tr>\n",
       "      <th>3</th>\n",
       "      <td>1</td>\n",
       "      <td>male</td>\n",
       "      <td>23</td>\n",
       "    </tr>\n",
       "  </tbody>\n",
       "</table>\n",
       "</div>"
      ],
      "text/plain": [
       "   Child     Sex  Survived\n",
       "0      0  female       195\n",
       "1      0    male        86\n",
       "2      1  female        38\n",
       "3      1    male        23"
      ]
     },
     "execution_count": 20,
     "metadata": {},
     "output_type": "execute_result"
    }
   ],
   "source": [
    "result = train.groupby(['Child', 'Sex']).agg({'Survived':'sum'}).reset_index()\n",
    "result"
   ]
  },
  {
   "cell_type": "code",
   "execution_count": 21,
   "metadata": {},
   "outputs": [
    {
     "data": {
      "text/html": [
       "<div>\n",
       "<style scoped>\n",
       "    .dataframe tbody tr th:only-of-type {\n",
       "        vertical-align: middle;\n",
       "    }\n",
       "\n",
       "    .dataframe tbody tr th {\n",
       "        vertical-align: top;\n",
       "    }\n",
       "\n",
       "    .dataframe thead th {\n",
       "        text-align: right;\n",
       "    }\n",
       "</style>\n",
       "<table border=\"1\" class=\"dataframe\">\n",
       "  <thead>\n",
       "    <tr style=\"text-align: right;\">\n",
       "      <th></th>\n",
       "      <th>Child</th>\n",
       "      <th>Sex</th>\n",
       "      <th>Survived</th>\n",
       "    </tr>\n",
       "  </thead>\n",
       "  <tbody>\n",
       "    <tr>\n",
       "      <th>0</th>\n",
       "      <td>0</td>\n",
       "      <td>female</td>\n",
       "      <td>259</td>\n",
       "    </tr>\n",
       "    <tr>\n",
       "      <th>1</th>\n",
       "      <td>0</td>\n",
       "      <td>male</td>\n",
       "      <td>519</td>\n",
       "    </tr>\n",
       "    <tr>\n",
       "      <th>2</th>\n",
       "      <td>1</td>\n",
       "      <td>female</td>\n",
       "      <td>55</td>\n",
       "    </tr>\n",
       "    <tr>\n",
       "      <th>3</th>\n",
       "      <td>1</td>\n",
       "      <td>male</td>\n",
       "      <td>58</td>\n",
       "    </tr>\n",
       "  </tbody>\n",
       "</table>\n",
       "</div>"
      ],
      "text/plain": [
       "   Child     Sex  Survived\n",
       "0      0  female       259\n",
       "1      0    male       519\n",
       "2      1  female        55\n",
       "3      1    male        58"
      ]
     },
     "execution_count": 21,
     "metadata": {},
     "output_type": "execute_result"
    }
   ],
   "source": [
    "result = train.groupby(['Child', 'Sex']).agg({'Survived':'count'}).reset_index()\n",
    "result"
   ]
  },
  {
   "cell_type": "code",
   "execution_count": 22,
   "metadata": {},
   "outputs": [
    {
     "data": {
      "text/html": [
       "<div>\n",
       "<style scoped>\n",
       "    .dataframe tbody tr th:only-of-type {\n",
       "        vertical-align: middle;\n",
       "    }\n",
       "\n",
       "    .dataframe tbody tr th {\n",
       "        vertical-align: top;\n",
       "    }\n",
       "\n",
       "    .dataframe thead th {\n",
       "        text-align: right;\n",
       "    }\n",
       "</style>\n",
       "<table border=\"1\" class=\"dataframe\">\n",
       "  <thead>\n",
       "    <tr style=\"text-align: right;\">\n",
       "      <th></th>\n",
       "      <th>Child</th>\n",
       "      <th>Sex</th>\n",
       "      <th>Survived</th>\n",
       "    </tr>\n",
       "  </thead>\n",
       "  <tbody>\n",
       "    <tr>\n",
       "      <th>0</th>\n",
       "      <td>0</td>\n",
       "      <td>female</td>\n",
       "      <td>0.752896</td>\n",
       "    </tr>\n",
       "    <tr>\n",
       "      <th>1</th>\n",
       "      <td>0</td>\n",
       "      <td>male</td>\n",
       "      <td>0.165703</td>\n",
       "    </tr>\n",
       "    <tr>\n",
       "      <th>2</th>\n",
       "      <td>1</td>\n",
       "      <td>female</td>\n",
       "      <td>0.690909</td>\n",
       "    </tr>\n",
       "    <tr>\n",
       "      <th>3</th>\n",
       "      <td>1</td>\n",
       "      <td>male</td>\n",
       "      <td>0.396552</td>\n",
       "    </tr>\n",
       "  </tbody>\n",
       "</table>\n",
       "</div>"
      ],
      "text/plain": [
       "   Child     Sex  Survived\n",
       "0      0  female  0.752896\n",
       "1      0    male  0.165703\n",
       "2      1  female  0.690909\n",
       "3      1    male  0.396552"
      ]
     },
     "execution_count": 22,
     "metadata": {},
     "output_type": "execute_result"
    }
   ],
   "source": [
    "result = train.groupby(['Child', 'Sex']).agg({'Survived': lambda x: sum(x)/len(x)}).reset_index()\n",
    "result"
   ]
  },
  {
   "cell_type": "markdown",
   "metadata": {},
   "source": [
    "Aun considerando los casos de mayor o menor de edad, el género termina condicionando el resultado. "
   ]
  },
  {
   "cell_type": "markdown",
   "metadata": {},
   "source": [
    "4) Clase"
   ]
  },
  {
   "cell_type": "code",
   "execution_count": 23,
   "metadata": {},
   "outputs": [],
   "source": [
    "train_clase = data_train\n",
    "\n",
    "train_clase['Fare2'] = '30+'\n",
    "\n",
    "train_clase.loc[(train_clase['Fare'] < 30) & (train_clase['Fare'] > 20), 'Fare2'] = '20-30' \n",
    "train_clase.loc[(train_clase['Fare'] < 20) & (train_clase['Fare'] > 10), 'Fare2'] = '10-20'\n",
    "train_clase.loc[(train_clase['Fare'] < 10), 'Fare2'] = '10'"
   ]
  },
  {
   "cell_type": "code",
   "execution_count": 24,
   "metadata": {},
   "outputs": [
    {
     "data": {
      "text/html": [
       "<div>\n",
       "<style scoped>\n",
       "    .dataframe tbody tr th:only-of-type {\n",
       "        vertical-align: middle;\n",
       "    }\n",
       "\n",
       "    .dataframe tbody tr th {\n",
       "        vertical-align: top;\n",
       "    }\n",
       "\n",
       "    .dataframe thead th {\n",
       "        text-align: right;\n",
       "    }\n",
       "</style>\n",
       "<table border=\"1\" class=\"dataframe\">\n",
       "  <thead>\n",
       "    <tr style=\"text-align: right;\">\n",
       "      <th></th>\n",
       "      <th>Fare2</th>\n",
       "      <th>Pclass</th>\n",
       "      <th>Sex</th>\n",
       "      <th>Survived</th>\n",
       "    </tr>\n",
       "  </thead>\n",
       "  <tbody>\n",
       "    <tr>\n",
       "      <th>0</th>\n",
       "      <td>10</td>\n",
       "      <td>1</td>\n",
       "      <td>male</td>\n",
       "      <td>0.000000</td>\n",
       "    </tr>\n",
       "    <tr>\n",
       "      <th>1</th>\n",
       "      <td>10</td>\n",
       "      <td>2</td>\n",
       "      <td>male</td>\n",
       "      <td>0.000000</td>\n",
       "    </tr>\n",
       "    <tr>\n",
       "      <th>2</th>\n",
       "      <td>10</td>\n",
       "      <td>3</td>\n",
       "      <td>female</td>\n",
       "      <td>0.593750</td>\n",
       "    </tr>\n",
       "    <tr>\n",
       "      <th>3</th>\n",
       "      <td>10</td>\n",
       "      <td>3</td>\n",
       "      <td>male</td>\n",
       "      <td>0.111538</td>\n",
       "    </tr>\n",
       "    <tr>\n",
       "      <th>4</th>\n",
       "      <td>10-20</td>\n",
       "      <td>2</td>\n",
       "      <td>female</td>\n",
       "      <td>0.914286</td>\n",
       "    </tr>\n",
       "    <tr>\n",
       "      <th>5</th>\n",
       "      <td>10-20</td>\n",
       "      <td>2</td>\n",
       "      <td>male</td>\n",
       "      <td>0.158730</td>\n",
       "    </tr>\n",
       "    <tr>\n",
       "      <th>6</th>\n",
       "      <td>10-20</td>\n",
       "      <td>3</td>\n",
       "      <td>female</td>\n",
       "      <td>0.581395</td>\n",
       "    </tr>\n",
       "    <tr>\n",
       "      <th>7</th>\n",
       "      <td>10-20</td>\n",
       "      <td>3</td>\n",
       "      <td>male</td>\n",
       "      <td>0.236842</td>\n",
       "    </tr>\n",
       "    <tr>\n",
       "      <th>8</th>\n",
       "      <td>20-30</td>\n",
       "      <td>1</td>\n",
       "      <td>female</td>\n",
       "      <td>0.833333</td>\n",
       "    </tr>\n",
       "    <tr>\n",
       "      <th>9</th>\n",
       "      <td>20-30</td>\n",
       "      <td>1</td>\n",
       "      <td>male</td>\n",
       "      <td>0.400000</td>\n",
       "    </tr>\n",
       "    <tr>\n",
       "      <th>10</th>\n",
       "      <td>20-30</td>\n",
       "      <td>2</td>\n",
       "      <td>female</td>\n",
       "      <td>0.900000</td>\n",
       "    </tr>\n",
       "    <tr>\n",
       "      <th>11</th>\n",
       "      <td>20-30</td>\n",
       "      <td>2</td>\n",
       "      <td>male</td>\n",
       "      <td>0.160000</td>\n",
       "    </tr>\n",
       "    <tr>\n",
       "      <th>12</th>\n",
       "      <td>20-30</td>\n",
       "      <td>3</td>\n",
       "      <td>female</td>\n",
       "      <td>0.333333</td>\n",
       "    </tr>\n",
       "    <tr>\n",
       "      <th>13</th>\n",
       "      <td>20-30</td>\n",
       "      <td>3</td>\n",
       "      <td>male</td>\n",
       "      <td>0.125000</td>\n",
       "    </tr>\n",
       "    <tr>\n",
       "      <th>14</th>\n",
       "      <td>30+</td>\n",
       "      <td>1</td>\n",
       "      <td>female</td>\n",
       "      <td>0.977273</td>\n",
       "    </tr>\n",
       "    <tr>\n",
       "      <th>15</th>\n",
       "      <td>30+</td>\n",
       "      <td>1</td>\n",
       "      <td>male</td>\n",
       "      <td>0.383721</td>\n",
       "    </tr>\n",
       "    <tr>\n",
       "      <th>16</th>\n",
       "      <td>30+</td>\n",
       "      <td>2</td>\n",
       "      <td>female</td>\n",
       "      <td>1.000000</td>\n",
       "    </tr>\n",
       "    <tr>\n",
       "      <th>17</th>\n",
       "      <td>30+</td>\n",
       "      <td>2</td>\n",
       "      <td>male</td>\n",
       "      <td>0.214286</td>\n",
       "    </tr>\n",
       "    <tr>\n",
       "      <th>18</th>\n",
       "      <td>30+</td>\n",
       "      <td>3</td>\n",
       "      <td>female</td>\n",
       "      <td>0.125000</td>\n",
       "    </tr>\n",
       "    <tr>\n",
       "      <th>19</th>\n",
       "      <td>30+</td>\n",
       "      <td>3</td>\n",
       "      <td>male</td>\n",
       "      <td>0.240000</td>\n",
       "    </tr>\n",
       "  </tbody>\n",
       "</table>\n",
       "</div>"
      ],
      "text/plain": [
       "    Fare2  Pclass     Sex  Survived\n",
       "0      10       1    male  0.000000\n",
       "1      10       2    male  0.000000\n",
       "2      10       3  female  0.593750\n",
       "3      10       3    male  0.111538\n",
       "4   10-20       2  female  0.914286\n",
       "5   10-20       2    male  0.158730\n",
       "6   10-20       3  female  0.581395\n",
       "7   10-20       3    male  0.236842\n",
       "8   20-30       1  female  0.833333\n",
       "9   20-30       1    male  0.400000\n",
       "10  20-30       2  female  0.900000\n",
       "11  20-30       2    male  0.160000\n",
       "12  20-30       3  female  0.333333\n",
       "13  20-30       3    male  0.125000\n",
       "14    30+       1  female  0.977273\n",
       "15    30+       1    male  0.383721\n",
       "16    30+       2  female  1.000000\n",
       "17    30+       2    male  0.214286\n",
       "18    30+       3  female  0.125000\n",
       "19    30+       3    male  0.240000"
      ]
     },
     "execution_count": 24,
     "metadata": {},
     "output_type": "execute_result"
    }
   ],
   "source": [
    "train_clase.groupby(['Fare2', 'Pclass', 'Sex'])['Survived'].mean().reset_index()\n"
   ]
  },
  {
   "cell_type": "code",
   "execution_count": 25,
   "metadata": {},
   "outputs": [
    {
     "data": {
      "text/html": [
       "<div>\n",
       "<style scoped>\n",
       "    .dataframe tbody tr th:only-of-type {\n",
       "        vertical-align: middle;\n",
       "    }\n",
       "\n",
       "    .dataframe tbody tr th {\n",
       "        vertical-align: top;\n",
       "    }\n",
       "\n",
       "    .dataframe thead th {\n",
       "        text-align: right;\n",
       "    }\n",
       "</style>\n",
       "<table border=\"1\" class=\"dataframe\">\n",
       "  <thead>\n",
       "    <tr style=\"text-align: right;\">\n",
       "      <th></th>\n",
       "      <th>PassengerId</th>\n",
       "      <th>Pclass</th>\n",
       "      <th>Name</th>\n",
       "      <th>Sex</th>\n",
       "      <th>Age</th>\n",
       "      <th>SibSp</th>\n",
       "      <th>Parch</th>\n",
       "      <th>Ticket</th>\n",
       "      <th>Fare</th>\n",
       "      <th>Cabin</th>\n",
       "      <th>Embarked</th>\n",
       "      <th>Survived</th>\n",
       "    </tr>\n",
       "  </thead>\n",
       "  <tbody>\n",
       "    <tr>\n",
       "      <th>0</th>\n",
       "      <td>892</td>\n",
       "      <td>3</td>\n",
       "      <td>Kelly, Mr. James</td>\n",
       "      <td>male</td>\n",
       "      <td>34.5</td>\n",
       "      <td>0</td>\n",
       "      <td>0</td>\n",
       "      <td>330911</td>\n",
       "      <td>7.8292</td>\n",
       "      <td>NaN</td>\n",
       "      <td>Q</td>\n",
       "      <td>0</td>\n",
       "    </tr>\n",
       "    <tr>\n",
       "      <th>1</th>\n",
       "      <td>893</td>\n",
       "      <td>3</td>\n",
       "      <td>Wilkes, Mrs. James (Ellen Needs)</td>\n",
       "      <td>female</td>\n",
       "      <td>47.0</td>\n",
       "      <td>1</td>\n",
       "      <td>0</td>\n",
       "      <td>363272</td>\n",
       "      <td>7.0000</td>\n",
       "      <td>NaN</td>\n",
       "      <td>S</td>\n",
       "      <td>1</td>\n",
       "    </tr>\n",
       "    <tr>\n",
       "      <th>2</th>\n",
       "      <td>894</td>\n",
       "      <td>2</td>\n",
       "      <td>Myles, Mr. Thomas Francis</td>\n",
       "      <td>male</td>\n",
       "      <td>62.0</td>\n",
       "      <td>0</td>\n",
       "      <td>0</td>\n",
       "      <td>240276</td>\n",
       "      <td>9.6875</td>\n",
       "      <td>NaN</td>\n",
       "      <td>Q</td>\n",
       "      <td>0</td>\n",
       "    </tr>\n",
       "    <tr>\n",
       "      <th>3</th>\n",
       "      <td>895</td>\n",
       "      <td>3</td>\n",
       "      <td>Wirz, Mr. Albert</td>\n",
       "      <td>male</td>\n",
       "      <td>27.0</td>\n",
       "      <td>0</td>\n",
       "      <td>0</td>\n",
       "      <td>315154</td>\n",
       "      <td>8.6625</td>\n",
       "      <td>NaN</td>\n",
       "      <td>S</td>\n",
       "      <td>0</td>\n",
       "    </tr>\n",
       "    <tr>\n",
       "      <th>4</th>\n",
       "      <td>896</td>\n",
       "      <td>3</td>\n",
       "      <td>Hirvonen, Mrs. Alexander (Helga E Lindqvist)</td>\n",
       "      <td>female</td>\n",
       "      <td>22.0</td>\n",
       "      <td>1</td>\n",
       "      <td>1</td>\n",
       "      <td>3101298</td>\n",
       "      <td>12.2875</td>\n",
       "      <td>NaN</td>\n",
       "      <td>S</td>\n",
       "      <td>1</td>\n",
       "    </tr>\n",
       "    <tr>\n",
       "      <th>...</th>\n",
       "      <td>...</td>\n",
       "      <td>...</td>\n",
       "      <td>...</td>\n",
       "      <td>...</td>\n",
       "      <td>...</td>\n",
       "      <td>...</td>\n",
       "      <td>...</td>\n",
       "      <td>...</td>\n",
       "      <td>...</td>\n",
       "      <td>...</td>\n",
       "      <td>...</td>\n",
       "      <td>...</td>\n",
       "    </tr>\n",
       "    <tr>\n",
       "      <th>413</th>\n",
       "      <td>1305</td>\n",
       "      <td>3</td>\n",
       "      <td>Spector, Mr. Woolf</td>\n",
       "      <td>male</td>\n",
       "      <td>NaN</td>\n",
       "      <td>0</td>\n",
       "      <td>0</td>\n",
       "      <td>A.5. 3236</td>\n",
       "      <td>8.0500</td>\n",
       "      <td>NaN</td>\n",
       "      <td>S</td>\n",
       "      <td>0</td>\n",
       "    </tr>\n",
       "    <tr>\n",
       "      <th>414</th>\n",
       "      <td>1306</td>\n",
       "      <td>1</td>\n",
       "      <td>Oliva y Ocana, Dona. Fermina</td>\n",
       "      <td>female</td>\n",
       "      <td>39.0</td>\n",
       "      <td>0</td>\n",
       "      <td>0</td>\n",
       "      <td>PC 17758</td>\n",
       "      <td>108.9000</td>\n",
       "      <td>C105</td>\n",
       "      <td>C</td>\n",
       "      <td>1</td>\n",
       "    </tr>\n",
       "    <tr>\n",
       "      <th>415</th>\n",
       "      <td>1307</td>\n",
       "      <td>3</td>\n",
       "      <td>Saether, Mr. Simon Sivertsen</td>\n",
       "      <td>male</td>\n",
       "      <td>38.5</td>\n",
       "      <td>0</td>\n",
       "      <td>0</td>\n",
       "      <td>SOTON/O.Q. 3101262</td>\n",
       "      <td>7.2500</td>\n",
       "      <td>NaN</td>\n",
       "      <td>S</td>\n",
       "      <td>0</td>\n",
       "    </tr>\n",
       "    <tr>\n",
       "      <th>416</th>\n",
       "      <td>1308</td>\n",
       "      <td>3</td>\n",
       "      <td>Ware, Mr. Frederick</td>\n",
       "      <td>male</td>\n",
       "      <td>NaN</td>\n",
       "      <td>0</td>\n",
       "      <td>0</td>\n",
       "      <td>359309</td>\n",
       "      <td>8.0500</td>\n",
       "      <td>NaN</td>\n",
       "      <td>S</td>\n",
       "      <td>0</td>\n",
       "    </tr>\n",
       "    <tr>\n",
       "      <th>417</th>\n",
       "      <td>1309</td>\n",
       "      <td>3</td>\n",
       "      <td>Peter, Master. Michael J</td>\n",
       "      <td>male</td>\n",
       "      <td>NaN</td>\n",
       "      <td>1</td>\n",
       "      <td>1</td>\n",
       "      <td>2668</td>\n",
       "      <td>22.3583</td>\n",
       "      <td>NaN</td>\n",
       "      <td>C</td>\n",
       "      <td>0</td>\n",
       "    </tr>\n",
       "  </tbody>\n",
       "</table>\n",
       "<p>418 rows × 12 columns</p>\n",
       "</div>"
      ],
      "text/plain": [
       "     PassengerId  Pclass                                          Name  \\\n",
       "0            892       3                              Kelly, Mr. James   \n",
       "1            893       3              Wilkes, Mrs. James (Ellen Needs)   \n",
       "2            894       2                     Myles, Mr. Thomas Francis   \n",
       "3            895       3                              Wirz, Mr. Albert   \n",
       "4            896       3  Hirvonen, Mrs. Alexander (Helga E Lindqvist)   \n",
       "..           ...     ...                                           ...   \n",
       "413         1305       3                            Spector, Mr. Woolf   \n",
       "414         1306       1                  Oliva y Ocana, Dona. Fermina   \n",
       "415         1307       3                  Saether, Mr. Simon Sivertsen   \n",
       "416         1308       3                           Ware, Mr. Frederick   \n",
       "417         1309       3                      Peter, Master. Michael J   \n",
       "\n",
       "        Sex   Age  SibSp  Parch              Ticket      Fare Cabin Embarked  \\\n",
       "0      male  34.5      0      0              330911    7.8292   NaN        Q   \n",
       "1    female  47.0      1      0              363272    7.0000   NaN        S   \n",
       "2      male  62.0      0      0              240276    9.6875   NaN        Q   \n",
       "3      male  27.0      0      0              315154    8.6625   NaN        S   \n",
       "4    female  22.0      1      1             3101298   12.2875   NaN        S   \n",
       "..      ...   ...    ...    ...                 ...       ...   ...      ...   \n",
       "413    male   NaN      0      0           A.5. 3236    8.0500   NaN        S   \n",
       "414  female  39.0      0      0            PC 17758  108.9000  C105        C   \n",
       "415    male  38.5      0      0  SOTON/O.Q. 3101262    7.2500   NaN        S   \n",
       "416    male   NaN      0      0              359309    8.0500   NaN        S   \n",
       "417    male   NaN      1      1                2668   22.3583   NaN        C   \n",
       "\n",
       "     Survived  \n",
       "0           0  \n",
       "1           1  \n",
       "2           0  \n",
       "3           0  \n",
       "4           1  \n",
       "..        ...  \n",
       "413         0  \n",
       "414         1  \n",
       "415         0  \n",
       "416         0  \n",
       "417         0  \n",
       "\n",
       "[418 rows x 12 columns]"
      ]
     },
     "execution_count": 25,
     "metadata": {},
     "output_type": "execute_result"
    }
   ],
   "source": [
    "test_clase = data_test\n",
    "test_clase['Survived'] = 0\n",
    "test_clase.loc[test_clase['Sex'] == 'female', 'Survived'] = 1\n",
    "test_clase.loc[(test_clase['Sex'] == 'female') & (test_clase['Pclass'] == 3) & (test_clase['Fare'] >= 20), 'Survived'] = 0\n",
    "test_clase"
   ]
  },
  {
   "cell_type": "code",
   "execution_count": 26,
   "metadata": {},
   "outputs": [],
   "source": [
    "diccionario = {'PassengerId' : test_clase['PassengerId'], 'Survived' : test_clase['Survived']}\n",
    "submit = pd.DataFrame(diccionario)\n",
    "submit.to_csv('data/theyallperish_4.csv', index=False)"
   ]
  },
  {
   "cell_type": "markdown",
   "metadata": {},
   "source": [
    "## Decision Trees"
   ]
  },
  {
   "cell_type": "code",
   "execution_count": 27,
   "metadata": {},
   "outputs": [],
   "source": [
    "from sklearn import tree"
   ]
  },
  {
   "cell_type": "code",
   "execution_count": 28,
   "metadata": {},
   "outputs": [],
   "source": [
    "model = tree.DecisionTreeClassifier()"
   ]
  },
  {
   "cell_type": "code",
   "execution_count": 29,
   "metadata": {},
   "outputs": [],
   "source": [
    "data_train_sn = data_train[['Sex', 'Age', 'SibSp', 'Parch', 'Fare', 'Survived']].dropna()\n",
    "X_train_sn = data_train_sn[['Sex', 'Age', 'SibSp', 'Parch', 'Fare']].replace({'male' : 0, 'female' : 1})\n",
    "y_train_sn = data_train_sn.Survived\n",
    "\n",
    "data_test_sn = data_test.dropna()\n",
    "X_test_sn = data_test_sn[['Sex', 'Age', 'SibSp', 'Parch', 'Fare']].replace({'male' : 0, 'female' : 1})\n"
   ]
  },
  {
   "cell_type": "code",
   "execution_count": 30,
   "metadata": {},
   "outputs": [],
   "source": [
    "X_train = data_train[['Sex', 'Age', 'SibSp', 'Parch', 'Fare']].replace({'male' : 0, 'female' : 1})\n",
    "mean_age = X_train.Age.mean()\n",
    "mean_fare = X_train.Fare.mean()\n",
    "X_train['Age'] = X_train['Age'].fillna(mean_age)\n",
    "# X_train.isna().sum()\n",
    "y_train = data_train.Survived\n",
    "\n",
    "X_test = data_test[['Sex', 'Age', 'SibSp', 'Parch', 'Fare']].replace({'male' : 0, 'female' : 1})\n",
    "X_test['Age'] = X_test.Age.fillna(mean_age)\n",
    "X_test['Fare'] = X_test.Age.fillna(mean_fare)\n"
   ]
  },
  {
   "cell_type": "code",
   "execution_count": 31,
   "metadata": {},
   "outputs": [
    {
     "data": {
      "text/html": [
       "<style>#sk-container-id-1 {color: black;background-color: white;}#sk-container-id-1 pre{padding: 0;}#sk-container-id-1 div.sk-toggleable {background-color: white;}#sk-container-id-1 label.sk-toggleable__label {cursor: pointer;display: block;width: 100%;margin-bottom: 0;padding: 0.3em;box-sizing: border-box;text-align: center;}#sk-container-id-1 label.sk-toggleable__label-arrow:before {content: \"▸\";float: left;margin-right: 0.25em;color: #696969;}#sk-container-id-1 label.sk-toggleable__label-arrow:hover:before {color: black;}#sk-container-id-1 div.sk-estimator:hover label.sk-toggleable__label-arrow:before {color: black;}#sk-container-id-1 div.sk-toggleable__content {max-height: 0;max-width: 0;overflow: hidden;text-align: left;background-color: #f0f8ff;}#sk-container-id-1 div.sk-toggleable__content pre {margin: 0.2em;color: black;border-radius: 0.25em;background-color: #f0f8ff;}#sk-container-id-1 input.sk-toggleable__control:checked~div.sk-toggleable__content {max-height: 200px;max-width: 100%;overflow: auto;}#sk-container-id-1 input.sk-toggleable__control:checked~label.sk-toggleable__label-arrow:before {content: \"▾\";}#sk-container-id-1 div.sk-estimator input.sk-toggleable__control:checked~label.sk-toggleable__label {background-color: #d4ebff;}#sk-container-id-1 div.sk-label input.sk-toggleable__control:checked~label.sk-toggleable__label {background-color: #d4ebff;}#sk-container-id-1 input.sk-hidden--visually {border: 0;clip: rect(1px 1px 1px 1px);clip: rect(1px, 1px, 1px, 1px);height: 1px;margin: -1px;overflow: hidden;padding: 0;position: absolute;width: 1px;}#sk-container-id-1 div.sk-estimator {font-family: monospace;background-color: #f0f8ff;border: 1px dotted black;border-radius: 0.25em;box-sizing: border-box;margin-bottom: 0.5em;}#sk-container-id-1 div.sk-estimator:hover {background-color: #d4ebff;}#sk-container-id-1 div.sk-parallel-item::after {content: \"\";width: 100%;border-bottom: 1px solid gray;flex-grow: 1;}#sk-container-id-1 div.sk-label:hover label.sk-toggleable__label {background-color: #d4ebff;}#sk-container-id-1 div.sk-serial::before {content: \"\";position: absolute;border-left: 1px solid gray;box-sizing: border-box;top: 0;bottom: 0;left: 50%;z-index: 0;}#sk-container-id-1 div.sk-serial {display: flex;flex-direction: column;align-items: center;background-color: white;padding-right: 0.2em;padding-left: 0.2em;position: relative;}#sk-container-id-1 div.sk-item {position: relative;z-index: 1;}#sk-container-id-1 div.sk-parallel {display: flex;align-items: stretch;justify-content: center;background-color: white;position: relative;}#sk-container-id-1 div.sk-item::before, #sk-container-id-1 div.sk-parallel-item::before {content: \"\";position: absolute;border-left: 1px solid gray;box-sizing: border-box;top: 0;bottom: 0;left: 50%;z-index: -1;}#sk-container-id-1 div.sk-parallel-item {display: flex;flex-direction: column;z-index: 1;position: relative;background-color: white;}#sk-container-id-1 div.sk-parallel-item:first-child::after {align-self: flex-end;width: 50%;}#sk-container-id-1 div.sk-parallel-item:last-child::after {align-self: flex-start;width: 50%;}#sk-container-id-1 div.sk-parallel-item:only-child::after {width: 0;}#sk-container-id-1 div.sk-dashed-wrapped {border: 1px dashed gray;margin: 0 0.4em 0.5em 0.4em;box-sizing: border-box;padding-bottom: 0.4em;background-color: white;}#sk-container-id-1 div.sk-label label {font-family: monospace;font-weight: bold;display: inline-block;line-height: 1.2em;}#sk-container-id-1 div.sk-label-container {text-align: center;}#sk-container-id-1 div.sk-container {/* jupyter's `normalize.less` sets `[hidden] { display: none; }` but bootstrap.min.css set `[hidden] { display: none !important; }` so we also need the `!important` here to be able to override the default hidden behavior on the sphinx rendered scikit-learn.org. See: https://github.com/scikit-learn/scikit-learn/issues/21755 */display: inline-block !important;position: relative;}#sk-container-id-1 div.sk-text-repr-fallback {display: none;}</style><div id=\"sk-container-id-1\" class=\"sk-top-container\"><div class=\"sk-text-repr-fallback\"><pre>DecisionTreeClassifier()</pre><b>In a Jupyter environment, please rerun this cell to show the HTML representation or trust the notebook. <br />On GitHub, the HTML representation is unable to render, please try loading this page with nbviewer.org.</b></div><div class=\"sk-container\" hidden><div class=\"sk-item\"><div class=\"sk-estimator sk-toggleable\"><input class=\"sk-toggleable__control sk-hidden--visually\" id=\"sk-estimator-id-1\" type=\"checkbox\" checked><label for=\"sk-estimator-id-1\" class=\"sk-toggleable__label sk-toggleable__label-arrow\">DecisionTreeClassifier</label><div class=\"sk-toggleable__content\"><pre>DecisionTreeClassifier()</pre></div></div></div></div></div>"
      ],
      "text/plain": [
       "DecisionTreeClassifier()"
      ]
     },
     "execution_count": 31,
     "metadata": {},
     "output_type": "execute_result"
    }
   ],
   "source": [
    "model.fit(X_train, y_train)"
   ]
  },
  {
   "cell_type": "code",
   "execution_count": 32,
   "metadata": {},
   "outputs": [],
   "source": [
    "tree_prediction = model.predict(X_test)"
   ]
  },
  {
   "cell_type": "code",
   "execution_count": 33,
   "metadata": {},
   "outputs": [],
   "source": [
    "diccionario = {'PassengerId' : test['PassengerId'], 'Survived' : tree_prediction}\n",
    "submit = pd.DataFrame(diccionario)\n",
    "submit.to_csv('data/tree_prediction.csv', index=False)"
   ]
  },
  {
   "cell_type": "code",
   "execution_count": 34,
   "metadata": {},
   "outputs": [],
   "source": [
    "## otra forma \n",
    "model = tree.DecisionTreeClassifier(max_depth=None, min_samples_split=20, min_samples_leaf=7)"
   ]
  },
  {
   "cell_type": "code",
   "execution_count": 35,
   "metadata": {},
   "outputs": [],
   "source": [
    "Embarked_train = pd.get_dummies(data_train['Embarked'])\n",
    "\n",
    "X_train = data_train[['Sex', 'Age', 'SibSp', 'Parch', 'Fare']].replace({'male' : 0, \n",
    "                                                                        'female' : 1})\n",
    "X_train = pd.concat([X_train, Embarked_train], axis=1)\n"
   ]
  },
  {
   "cell_type": "code",
   "execution_count": 36,
   "metadata": {},
   "outputs": [],
   "source": [
    "mean_age = X_train.Age.mean()\n",
    "mean_fare = X_train.Fare.mean()\n",
    "\n",
    "X_train['Age'] = X_train['Age'].fillna(mean_age)\n",
    "y_train = data_train.Survived"
   ]
  },
  {
   "cell_type": "code",
   "execution_count": 37,
   "metadata": {},
   "outputs": [],
   "source": [
    "Embarked_test = pd.get_dummies(data_test['Embarked'])\n",
    "\n",
    "X_test = data_test[['Sex', 'Age', 'SibSp', 'Parch', 'Fare']].replace({'male' : 0, \n",
    "                                                                      'female' : 1})\n",
    "\n",
    "X_test = pd.concat([X_test, Embarked_test], axis=1)"
   ]
  },
  {
   "cell_type": "code",
   "execution_count": 38,
   "metadata": {},
   "outputs": [
    {
     "data": {
      "text/html": [
       "<style>#sk-container-id-2 {color: black;background-color: white;}#sk-container-id-2 pre{padding: 0;}#sk-container-id-2 div.sk-toggleable {background-color: white;}#sk-container-id-2 label.sk-toggleable__label {cursor: pointer;display: block;width: 100%;margin-bottom: 0;padding: 0.3em;box-sizing: border-box;text-align: center;}#sk-container-id-2 label.sk-toggleable__label-arrow:before {content: \"▸\";float: left;margin-right: 0.25em;color: #696969;}#sk-container-id-2 label.sk-toggleable__label-arrow:hover:before {color: black;}#sk-container-id-2 div.sk-estimator:hover label.sk-toggleable__label-arrow:before {color: black;}#sk-container-id-2 div.sk-toggleable__content {max-height: 0;max-width: 0;overflow: hidden;text-align: left;background-color: #f0f8ff;}#sk-container-id-2 div.sk-toggleable__content pre {margin: 0.2em;color: black;border-radius: 0.25em;background-color: #f0f8ff;}#sk-container-id-2 input.sk-toggleable__control:checked~div.sk-toggleable__content {max-height: 200px;max-width: 100%;overflow: auto;}#sk-container-id-2 input.sk-toggleable__control:checked~label.sk-toggleable__label-arrow:before {content: \"▾\";}#sk-container-id-2 div.sk-estimator input.sk-toggleable__control:checked~label.sk-toggleable__label {background-color: #d4ebff;}#sk-container-id-2 div.sk-label input.sk-toggleable__control:checked~label.sk-toggleable__label {background-color: #d4ebff;}#sk-container-id-2 input.sk-hidden--visually {border: 0;clip: rect(1px 1px 1px 1px);clip: rect(1px, 1px, 1px, 1px);height: 1px;margin: -1px;overflow: hidden;padding: 0;position: absolute;width: 1px;}#sk-container-id-2 div.sk-estimator {font-family: monospace;background-color: #f0f8ff;border: 1px dotted black;border-radius: 0.25em;box-sizing: border-box;margin-bottom: 0.5em;}#sk-container-id-2 div.sk-estimator:hover {background-color: #d4ebff;}#sk-container-id-2 div.sk-parallel-item::after {content: \"\";width: 100%;border-bottom: 1px solid gray;flex-grow: 1;}#sk-container-id-2 div.sk-label:hover label.sk-toggleable__label {background-color: #d4ebff;}#sk-container-id-2 div.sk-serial::before {content: \"\";position: absolute;border-left: 1px solid gray;box-sizing: border-box;top: 0;bottom: 0;left: 50%;z-index: 0;}#sk-container-id-2 div.sk-serial {display: flex;flex-direction: column;align-items: center;background-color: white;padding-right: 0.2em;padding-left: 0.2em;position: relative;}#sk-container-id-2 div.sk-item {position: relative;z-index: 1;}#sk-container-id-2 div.sk-parallel {display: flex;align-items: stretch;justify-content: center;background-color: white;position: relative;}#sk-container-id-2 div.sk-item::before, #sk-container-id-2 div.sk-parallel-item::before {content: \"\";position: absolute;border-left: 1px solid gray;box-sizing: border-box;top: 0;bottom: 0;left: 50%;z-index: -1;}#sk-container-id-2 div.sk-parallel-item {display: flex;flex-direction: column;z-index: 1;position: relative;background-color: white;}#sk-container-id-2 div.sk-parallel-item:first-child::after {align-self: flex-end;width: 50%;}#sk-container-id-2 div.sk-parallel-item:last-child::after {align-self: flex-start;width: 50%;}#sk-container-id-2 div.sk-parallel-item:only-child::after {width: 0;}#sk-container-id-2 div.sk-dashed-wrapped {border: 1px dashed gray;margin: 0 0.4em 0.5em 0.4em;box-sizing: border-box;padding-bottom: 0.4em;background-color: white;}#sk-container-id-2 div.sk-label label {font-family: monospace;font-weight: bold;display: inline-block;line-height: 1.2em;}#sk-container-id-2 div.sk-label-container {text-align: center;}#sk-container-id-2 div.sk-container {/* jupyter's `normalize.less` sets `[hidden] { display: none; }` but bootstrap.min.css set `[hidden] { display: none !important; }` so we also need the `!important` here to be able to override the default hidden behavior on the sphinx rendered scikit-learn.org. See: https://github.com/scikit-learn/scikit-learn/issues/21755 */display: inline-block !important;position: relative;}#sk-container-id-2 div.sk-text-repr-fallback {display: none;}</style><div id=\"sk-container-id-2\" class=\"sk-top-container\"><div class=\"sk-text-repr-fallback\"><pre>DecisionTreeClassifier(min_samples_leaf=7, min_samples_split=20)</pre><b>In a Jupyter environment, please rerun this cell to show the HTML representation or trust the notebook. <br />On GitHub, the HTML representation is unable to render, please try loading this page with nbviewer.org.</b></div><div class=\"sk-container\" hidden><div class=\"sk-item\"><div class=\"sk-estimator sk-toggleable\"><input class=\"sk-toggleable__control sk-hidden--visually\" id=\"sk-estimator-id-2\" type=\"checkbox\" checked><label for=\"sk-estimator-id-2\" class=\"sk-toggleable__label sk-toggleable__label-arrow\">DecisionTreeClassifier</label><div class=\"sk-toggleable__content\"><pre>DecisionTreeClassifier(min_samples_leaf=7, min_samples_split=20)</pre></div></div></div></div></div>"
      ],
      "text/plain": [
       "DecisionTreeClassifier(min_samples_leaf=7, min_samples_split=20)"
      ]
     },
     "execution_count": 38,
     "metadata": {},
     "output_type": "execute_result"
    }
   ],
   "source": [
    "X_test['Age'] = X_test.Age.fillna(mean_age)\n",
    "X_test['Fare'] = X_test.Age.fillna(mean_fare)\n",
    "\n",
    "model.fit(X_train, y_train)"
   ]
  },
  {
   "cell_type": "code",
   "execution_count": 39,
   "metadata": {},
   "outputs": [],
   "source": [
    "tree_prediction = model.predict(X_test)"
   ]
  },
  {
   "cell_type": "code",
   "execution_count": 40,
   "metadata": {},
   "outputs": [],
   "source": [
    "diccionario = {'PassengerId' : test['PassengerId'], 'Survived' : tree_prediction}\n",
    "submit = pd.DataFrame(diccionario)\n",
    "submit.to_csv('data/tree_prediction_2.csv', index=False)"
   ]
  },
  {
   "cell_type": "markdown",
   "metadata": {},
   "source": [
    "### Feature Engineering"
   ]
  },
  {
   "cell_type": "code",
   "execution_count": 41,
   "metadata": {},
   "outputs": [],
   "source": [
    "test_fe = data_test\n",
    "train_fe = data_train"
   ]
  },
  {
   "cell_type": "code",
   "execution_count": 42,
   "metadata": {},
   "outputs": [
    {
     "data": {
      "text/plain": [
       "'Braund, Mr. Owen Harris'"
      ]
     },
     "execution_count": 42,
     "metadata": {},
     "output_type": "execute_result"
    }
   ],
   "source": [
    "train_fe['Name'][0]"
   ]
  },
  {
   "cell_type": "code",
   "execution_count": 43,
   "metadata": {},
   "outputs": [
    {
     "data": {
      "text/plain": [
       "Index(['PassengerId', 'Survived', 'Pclass', 'Name', 'Sex', 'Age', 'SibSp',\n",
       "       'Parch', 'Ticket', 'Fare', 'Cabin', 'Embarked', 'Child', 'Fare2'],\n",
       "      dtype='object')"
      ]
     },
     "execution_count": 43,
     "metadata": {},
     "output_type": "execute_result"
    }
   ],
   "source": [
    "train_fe.columns"
   ]
  },
  {
   "cell_type": "code",
   "execution_count": 44,
   "metadata": {},
   "outputs": [
    {
     "data": {
      "text/plain": [
       "['Braund', ' Mr. Owen Harris']"
      ]
     },
     "execution_count": 44,
     "metadata": {},
     "output_type": "execute_result"
    }
   ],
   "source": [
    "string_to_split = train_fe['Name'][0]\n",
    "delimiter = \",\"\n",
    "string_to_split.split(delimiter)\n"
   ]
  },
  {
   "cell_type": "code",
   "execution_count": 45,
   "metadata": {},
   "outputs": [
    {
     "data": {
      "text/plain": [
       "['eef', 'geg']"
      ]
     },
     "execution_count": 45,
     "metadata": {},
     "output_type": "execute_result"
    }
   ],
   "source": [
    "'eef geg'.split()"
   ]
  },
  {
   "cell_type": "code",
   "execution_count": 46,
   "metadata": {},
   "outputs": [],
   "source": [
    "test_fe['Survived'] =float('nan')\n",
    "\n",
    "combi = pd.concat([train_fe, test_fe], ignore_index=True)"
   ]
  },
  {
   "cell_type": "code",
   "execution_count": 47,
   "metadata": {},
   "outputs": [
    {
     "data": {
      "text/plain": [
       "'Braund, Mr. Owen Harris'"
      ]
     },
     "execution_count": 47,
     "metadata": {},
     "output_type": "execute_result"
    }
   ],
   "source": [
    "combi.Name[0]"
   ]
  },
  {
   "cell_type": "code",
   "execution_count": 48,
   "metadata": {},
   "outputs": [
    {
     "data": {
      "text/plain": [
       "['Braund', ' Mr. Owen Harris']"
      ]
     },
     "execution_count": 48,
     "metadata": {},
     "output_type": "execute_result"
    }
   ],
   "source": [
    "combi['Name'][0].split(',')\n"
   ]
  },
  {
   "cell_type": "code",
   "execution_count": 49,
   "metadata": {},
   "outputs": [
    {
     "data": {
      "text/plain": [
       "['Braund, Mr. Owen Harris']"
      ]
     },
     "execution_count": 49,
     "metadata": {},
     "output_type": "execute_result"
    }
   ],
   "source": [
    "combi['Name'][0].split('[,.]')"
   ]
  },
  {
   "cell_type": "code",
   "execution_count": 50,
   "metadata": {},
   "outputs": [
    {
     "data": {
      "text/plain": [
       "['Braund', 'Mr', 'Owen Harris']"
      ]
     },
     "execution_count": 50,
     "metadata": {},
     "output_type": "execute_result"
    }
   ],
   "source": [
    "import re\n",
    "result = re.split('[,.]', combi['Name'][0])\n",
    "result = [s.strip() for s in result]\n",
    "result"
   ]
  },
  {
   "cell_type": "code",
   "execution_count": 51,
   "metadata": {},
   "outputs": [
    {
     "data": {
      "text/plain": [
       "' Mr'"
      ]
     },
     "execution_count": 51,
     "metadata": {},
     "output_type": "execute_result"
    }
   ],
   "source": [
    "re.split('[,.]', combi['Name'][0])[1]"
   ]
  },
  {
   "cell_type": "code",
   "execution_count": 52,
   "metadata": {},
   "outputs": [],
   "source": [
    "combi['Title'] = combi['Name'].apply(lambda x: re.split('[,.]', x)[1].strip() if pd.notnull(x) else None)"
   ]
  },
  {
   "cell_type": "code",
   "execution_count": 53,
   "metadata": {},
   "outputs": [
    {
     "data": {
      "text/plain": [
       "0           Mr\n",
       "1          Mrs\n",
       "2         Miss\n",
       "3          Mrs\n",
       "4           Mr\n",
       "         ...  \n",
       "1304        Mr\n",
       "1305      Dona\n",
       "1306        Mr\n",
       "1307        Mr\n",
       "1308    Master\n",
       "Name: Title, Length: 1309, dtype: object"
      ]
     },
     "execution_count": 53,
     "metadata": {},
     "output_type": "execute_result"
    }
   ],
   "source": [
    "combi['Title']"
   ]
  },
  {
   "cell_type": "code",
   "execution_count": 54,
   "metadata": {},
   "outputs": [
    {
     "data": {
      "text/plain": [
       "'a'"
      ]
     },
     "execution_count": 54,
     "metadata": {},
     "output_type": "execute_result"
    }
   ],
   "source": [
    "'a' if 2 == 2 else 'b'"
   ]
  },
  {
   "cell_type": "code",
   "execution_count": 55,
   "metadata": {},
   "outputs": [
    {
     "data": {
      "text/plain": [
       "<function __main__.<lambda>(x)>"
      ]
     },
     "execution_count": 55,
     "metadata": {},
     "output_type": "execute_result"
    }
   ],
   "source": [
    "f = lambda x: re.split('[,.]', x)[1].strip() if pd.notnull(x) else None\n",
    "f"
   ]
  },
  {
   "cell_type": "code",
   "execution_count": 56,
   "metadata": {},
   "outputs": [
    {
     "data": {
      "text/plain": [
       "<function __main__.g(x)>"
      ]
     },
     "execution_count": 56,
     "metadata": {},
     "output_type": "execute_result"
    }
   ],
   "source": [
    "def g(x):\n",
    "    return re.split('[,.]', x)[1].strip() if pd.notnull(x) else None\n",
    "g"
   ]
  },
  {
   "cell_type": "code",
   "execution_count": 57,
   "metadata": {},
   "outputs": [],
   "source": [
    "combi['Title'] = combi['Title'].str.replace(' ', '')"
   ]
  },
  {
   "cell_type": "code",
   "execution_count": 58,
   "metadata": {},
   "outputs": [
    {
     "data": {
      "text/plain": [
       "0           Mr\n",
       "1          Mrs\n",
       "2         Miss\n",
       "3          Mrs\n",
       "4           Mr\n",
       "         ...  \n",
       "1304        Mr\n",
       "1305      Dona\n",
       "1306        Mr\n",
       "1307        Mr\n",
       "1308    Master\n",
       "Name: Title, Length: 1309, dtype: object"
      ]
     },
     "execution_count": 58,
     "metadata": {},
     "output_type": "execute_result"
    }
   ],
   "source": [
    "combi['Title']"
   ]
  },
  {
   "cell_type": "code",
   "execution_count": 59,
   "metadata": {},
   "outputs": [
    {
     "data": {
      "text/plain": [
       "Mr             757\n",
       "Miss           260\n",
       "Mrs            197\n",
       "Master          61\n",
       "Rev              8\n",
       "Dr               8\n",
       "Col              4\n",
       "Mlle             2\n",
       "Major            2\n",
       "Ms               2\n",
       "Lady             1\n",
       "Sir              1\n",
       "Mme              1\n",
       "Don              1\n",
       "Capt             1\n",
       "theCountess      1\n",
       "Jonkheer         1\n",
       "Dona             1\n",
       "Name: Title, dtype: int64"
      ]
     },
     "execution_count": 59,
     "metadata": {},
     "output_type": "execute_result"
    }
   ],
   "source": [
    "title_counts = combi['Title'].value_counts()\n",
    "title_counts"
   ]
  },
  {
   "cell_type": "code",
   "execution_count": 60,
   "metadata": {},
   "outputs": [],
   "source": [
    "combi['Title'].replace(['Mme', 'Mlle'], 'Mlle', inplace=True)"
   ]
  },
  {
   "cell_type": "code",
   "execution_count": 61,
   "metadata": {},
   "outputs": [],
   "source": [
    "combi['Title'].replace(['Capt', 'Don', 'Major', 'Sir'], 'Sir', inplace=True)\n",
    "combi['Title'].replace(['Dona', 'Lady', 'the Countess', 'Jonkheer'], 'Lady', inplace=True)"
   ]
  },
  {
   "cell_type": "code",
   "execution_count": 62,
   "metadata": {},
   "outputs": [],
   "source": [
    "combi['FamilySize'] = combi['SibSp'] + combi['Parch'] + 1\n"
   ]
  },
  {
   "cell_type": "code",
   "execution_count": 63,
   "metadata": {},
   "outputs": [
    {
     "data": {
      "text/plain": [
       "0       0\n",
       "1       0\n",
       "2       0\n",
       "3       0\n",
       "4       0\n",
       "       ..\n",
       "1304    0\n",
       "1305    0\n",
       "1306    0\n",
       "1307    0\n",
       "1308    1\n",
       "Name: Parch, Length: 1309, dtype: int64"
      ]
     },
     "execution_count": 63,
     "metadata": {},
     "output_type": "execute_result"
    }
   ],
   "source": [
    "combi['Parch']"
   ]
  },
  {
   "cell_type": "code",
   "execution_count": 64,
   "metadata": {},
   "outputs": [
    {
     "data": {
      "text/plain": [
       "0       2\n",
       "1       2\n",
       "2       1\n",
       "3       2\n",
       "4       1\n",
       "       ..\n",
       "1304    1\n",
       "1305    1\n",
       "1306    1\n",
       "1307    1\n",
       "1308    3\n",
       "Name: FamilySize, Length: 1309, dtype: int64"
      ]
     },
     "execution_count": 64,
     "metadata": {},
     "output_type": "execute_result"
    }
   ],
   "source": [
    "combi['FamilySize'] "
   ]
  },
  {
   "cell_type": "code",
   "execution_count": 65,
   "metadata": {},
   "outputs": [],
   "source": [
    "combi['Surname'] = combi['Name'].str.split('[,.]').str[0]"
   ]
  },
  {
   "cell_type": "code",
   "execution_count": 66,
   "metadata": {},
   "outputs": [],
   "source": [
    "combi['FamilyID'] = combi['FamilySize'].astype(str) + combi['Surname']"
   ]
  },
  {
   "cell_type": "code",
   "execution_count": 67,
   "metadata": {},
   "outputs": [
    {
     "data": {
      "text/plain": [
       "0              2Braund\n",
       "1             2Cumings\n",
       "2           1Heikkinen\n",
       "3            2Futrelle\n",
       "4               1Allen\n",
       "             ...      \n",
       "1304          1Spector\n",
       "1305    1Oliva y Ocana\n",
       "1306          1Saether\n",
       "1307             1Ware\n",
       "1308            3Peter\n",
       "Name: FamilyID, Length: 1309, dtype: object"
      ]
     },
     "execution_count": 67,
     "metadata": {},
     "output_type": "execute_result"
    }
   ],
   "source": [
    "combi['FamilyID'] "
   ]
  },
  {
   "cell_type": "code",
   "execution_count": 68,
   "metadata": {},
   "outputs": [],
   "source": [
    "combi.loc[combi['FamilySize'] <= 2, 'FamilyID'] = 'Small'"
   ]
  },
  {
   "cell_type": "code",
   "execution_count": 69,
   "metadata": {},
   "outputs": [
    {
     "data": {
      "text/plain": [
       "Small             1025\n",
       "11Sage              11\n",
       "7Andersson           9\n",
       "8Goodwin             8\n",
       "7Asplund             7\n",
       "                  ... \n",
       "4Jacobsohn           1\n",
       "3Strom               1\n",
       "3Appleton            1\n",
       "3Silven              1\n",
       "5Kink-Heilmann       1\n",
       "Name: FamilyID, Length: 97, dtype: int64"
      ]
     },
     "execution_count": 69,
     "metadata": {},
     "output_type": "execute_result"
    }
   ],
   "source": [
    "title_counts = combi['FamilyID'].value_counts()\n",
    "title_counts"
   ]
  },
  {
   "cell_type": "code",
   "execution_count": 70,
   "metadata": {},
   "outputs": [],
   "source": [
    "famIDs = pd.DataFrame(combi['FamilyID'].value_counts()).reset_index()\n",
    "famIDs.columns = ['FamilyID', 'Count']"
   ]
  },
  {
   "cell_type": "code",
   "execution_count": 71,
   "metadata": {},
   "outputs": [
    {
     "data": {
      "text/html": [
       "<div>\n",
       "<style scoped>\n",
       "    .dataframe tbody tr th:only-of-type {\n",
       "        vertical-align: middle;\n",
       "    }\n",
       "\n",
       "    .dataframe tbody tr th {\n",
       "        vertical-align: top;\n",
       "    }\n",
       "\n",
       "    .dataframe thead th {\n",
       "        text-align: right;\n",
       "    }\n",
       "</style>\n",
       "<table border=\"1\" class=\"dataframe\">\n",
       "  <thead>\n",
       "    <tr style=\"text-align: right;\">\n",
       "      <th></th>\n",
       "      <th>FamilyID</th>\n",
       "      <th>Count</th>\n",
       "    </tr>\n",
       "  </thead>\n",
       "  <tbody>\n",
       "    <tr>\n",
       "      <th>0</th>\n",
       "      <td>Small</td>\n",
       "      <td>1025</td>\n",
       "    </tr>\n",
       "    <tr>\n",
       "      <th>1</th>\n",
       "      <td>11Sage</td>\n",
       "      <td>11</td>\n",
       "    </tr>\n",
       "    <tr>\n",
       "      <th>2</th>\n",
       "      <td>7Andersson</td>\n",
       "      <td>9</td>\n",
       "    </tr>\n",
       "    <tr>\n",
       "      <th>3</th>\n",
       "      <td>8Goodwin</td>\n",
       "      <td>8</td>\n",
       "    </tr>\n",
       "    <tr>\n",
       "      <th>4</th>\n",
       "      <td>7Asplund</td>\n",
       "      <td>7</td>\n",
       "    </tr>\n",
       "    <tr>\n",
       "      <th>...</th>\n",
       "      <td>...</td>\n",
       "      <td>...</td>\n",
       "    </tr>\n",
       "    <tr>\n",
       "      <th>92</th>\n",
       "      <td>4Jacobsohn</td>\n",
       "      <td>1</td>\n",
       "    </tr>\n",
       "    <tr>\n",
       "      <th>93</th>\n",
       "      <td>3Strom</td>\n",
       "      <td>1</td>\n",
       "    </tr>\n",
       "    <tr>\n",
       "      <th>94</th>\n",
       "      <td>3Appleton</td>\n",
       "      <td>1</td>\n",
       "    </tr>\n",
       "    <tr>\n",
       "      <th>95</th>\n",
       "      <td>3Silven</td>\n",
       "      <td>1</td>\n",
       "    </tr>\n",
       "    <tr>\n",
       "      <th>96</th>\n",
       "      <td>5Kink-Heilmann</td>\n",
       "      <td>1</td>\n",
       "    </tr>\n",
       "  </tbody>\n",
       "</table>\n",
       "<p>97 rows × 2 columns</p>\n",
       "</div>"
      ],
      "text/plain": [
       "          FamilyID  Count\n",
       "0            Small   1025\n",
       "1           11Sage     11\n",
       "2       7Andersson      9\n",
       "3         8Goodwin      8\n",
       "4         7Asplund      7\n",
       "..             ...    ...\n",
       "92      4Jacobsohn      1\n",
       "93          3Strom      1\n",
       "94       3Appleton      1\n",
       "95         3Silven      1\n",
       "96  5Kink-Heilmann      1\n",
       "\n",
       "[97 rows x 2 columns]"
      ]
     },
     "execution_count": 71,
     "metadata": {},
     "output_type": "execute_result"
    }
   ],
   "source": [
    "famIDs"
   ]
  },
  {
   "cell_type": "code",
   "execution_count": 72,
   "metadata": {},
   "outputs": [],
   "source": [
    "famIDs = famIDs[famIDs['Count'] <= 2]"
   ]
  },
  {
   "cell_type": "code",
   "execution_count": 73,
   "metadata": {},
   "outputs": [],
   "source": [
    "combi.loc[combi['FamilyID'].isin(famIDs['FamilyID']), 'FamilyID'] = 'Small'\n",
    "combi['FamilyID'] = combi['FamilyID'].astype('category')"
   ]
  },
  {
   "cell_type": "code",
   "execution_count": 74,
   "metadata": {},
   "outputs": [],
   "source": [
    "train_fe = combi.iloc[:891, :]\n",
    "test_fe = combi.iloc[891:1309, :]"
   ]
  },
  {
   "cell_type": "code",
   "execution_count": 75,
   "metadata": {},
   "outputs": [],
   "source": [
    "model = tree.DecisionTreeClassifier(max_depth=None, min_samples_split=20, min_samples_leaf=7)"
   ]
  },
  {
   "cell_type": "code",
   "execution_count": 76,
   "metadata": {},
   "outputs": [],
   "source": [
    "Embarked_train = pd.get_dummies(train_fe['Embarked'])\n",
    "\n",
    "X_train = train_fe[['Pclass', 'Sex', 'Age', 'SibSp', \n",
    "                    'Parch', 'Fare', 'Embarked', 'Title', \n",
    "                    'FamilySize']].replace({'male' : 0, 'female' : 1, \n",
    "                                            'Mr': 1, 'Mrs': 2, 'Miss': 3, 'Master': 4, 'Sir': 5,\n",
    "                                            'Rev': 6, 'Dr': 7, 'Mlle': 8, 'Ms': 9, 'Lady': 10,\n",
    "                                            'Col': 11, 'theCountess': 12})\n",
    "\n",
    "mean_age = X_train.Age.mean()\n",
    "mean_fare = X_train.Fare.mean()\n",
    "\n",
    "X_train = pd.concat([X_train, Embarked_train], axis=1)\n",
    "X_train = X_train.drop('Embarked', axis=1)\n",
    "X_train['Age'] = X_train['Age'].fillna(mean_age)\n",
    "# X_train.isna().sum()\n",
    "y_train = train_fe.Survived\n",
    "\n",
    "\n",
    "#################\n",
    "Embarked_test = pd.get_dummies(test_fe['Embarked'])\n",
    "\n",
    "X_test = test_fe[['Pclass', 'Sex', 'Age', 'SibSp', \n",
    "                  'Parch', 'Fare', 'Embarked', 'Title', \n",
    "                  'FamilySize']].replace({'male' : 0, 'female' : 1,\n",
    "                                          'Mr': 1, 'Mrs': 2, 'Miss': 3, 'Master': 4, 'Sir': 5,\n",
    "                                          'Rev': 6, 'Dr': 7, 'Mlle': 8, 'Ms': 9, 'Lady': 10,\n",
    "                                          'Col': 11, 'theCountess': 12})\n",
    "\n",
    "X_test = pd.concat([X_test, Embarked_test], axis=1)\n",
    "X_test = X_test.drop('Embarked', axis=1)\n",
    "X_test['Age'] = X_test.Age.fillna(mean_age)\n",
    "X_test['Fare'] = X_test.Age.fillna(mean_fare)\n",
    "\n",
    "model.fit(X_train, y_train)\n",
    "tree_prediction = model.predict(X_test)"
   ]
  },
  {
   "cell_type": "code",
   "execution_count": 77,
   "metadata": {},
   "outputs": [],
   "source": [
    "diccionario = {'PassengerId' : test['PassengerId'], 'Survived' : tree_prediction}\n",
    "submit = pd.DataFrame(diccionario)\n",
    "submit.Survived = submit.Survived.astype('int')\n",
    "submit.to_csv('data/tree_prediction_feature_engineering.csv', index=False)"
   ]
  },
  {
   "cell_type": "code",
   "execution_count": 78,
   "metadata": {},
   "outputs": [],
   "source": [
    "submit.Survived = submit.Survived.astype('int')"
   ]
  },
  {
   "cell_type": "code",
   "execution_count": 79,
   "metadata": {},
   "outputs": [],
   "source": [
    "submit.to_csv('data/tree_prediction_feature_engineering_op.csv', index=False)"
   ]
  },
  {
   "cell_type": "code",
   "execution_count": 80,
   "metadata": {},
   "outputs": [
    {
     "data": {
      "text/html": [
       "<div>\n",
       "<style scoped>\n",
       "    .dataframe tbody tr th:only-of-type {\n",
       "        vertical-align: middle;\n",
       "    }\n",
       "\n",
       "    .dataframe tbody tr th {\n",
       "        vertical-align: top;\n",
       "    }\n",
       "\n",
       "    .dataframe thead th {\n",
       "        text-align: right;\n",
       "    }\n",
       "</style>\n",
       "<table border=\"1\" class=\"dataframe\">\n",
       "  <thead>\n",
       "    <tr style=\"text-align: right;\">\n",
       "      <th></th>\n",
       "      <th>PassengerId</th>\n",
       "      <th>Survived</th>\n",
       "    </tr>\n",
       "  </thead>\n",
       "  <tbody>\n",
       "    <tr>\n",
       "      <th>0</th>\n",
       "      <td>892</td>\n",
       "      <td>0</td>\n",
       "    </tr>\n",
       "    <tr>\n",
       "      <th>1</th>\n",
       "      <td>893</td>\n",
       "      <td>1</td>\n",
       "    </tr>\n",
       "    <tr>\n",
       "      <th>2</th>\n",
       "      <td>894</td>\n",
       "      <td>0</td>\n",
       "    </tr>\n",
       "    <tr>\n",
       "      <th>3</th>\n",
       "      <td>895</td>\n",
       "      <td>0</td>\n",
       "    </tr>\n",
       "    <tr>\n",
       "      <th>4</th>\n",
       "      <td>896</td>\n",
       "      <td>1</td>\n",
       "    </tr>\n",
       "    <tr>\n",
       "      <th>...</th>\n",
       "      <td>...</td>\n",
       "      <td>...</td>\n",
       "    </tr>\n",
       "    <tr>\n",
       "      <th>413</th>\n",
       "      <td>1305</td>\n",
       "      <td>1</td>\n",
       "    </tr>\n",
       "    <tr>\n",
       "      <th>414</th>\n",
       "      <td>1306</td>\n",
       "      <td>0</td>\n",
       "    </tr>\n",
       "    <tr>\n",
       "      <th>415</th>\n",
       "      <td>1307</td>\n",
       "      <td>0</td>\n",
       "    </tr>\n",
       "    <tr>\n",
       "      <th>416</th>\n",
       "      <td>1308</td>\n",
       "      <td>1</td>\n",
       "    </tr>\n",
       "    <tr>\n",
       "      <th>417</th>\n",
       "      <td>1309</td>\n",
       "      <td>1</td>\n",
       "    </tr>\n",
       "  </tbody>\n",
       "</table>\n",
       "<p>418 rows × 2 columns</p>\n",
       "</div>"
      ],
      "text/plain": [
       "     PassengerId  Survived\n",
       "0            892         0\n",
       "1            893         1\n",
       "2            894         0\n",
       "3            895         0\n",
       "4            896         1\n",
       "..           ...       ...\n",
       "413         1305         1\n",
       "414         1306         0\n",
       "415         1307         0\n",
       "416         1308         1\n",
       "417         1309         1\n",
       "\n",
       "[418 rows x 2 columns]"
      ]
     },
     "execution_count": 80,
     "metadata": {},
     "output_type": "execute_result"
    }
   ],
   "source": [
    "pd.read_csv('data/tree_prediction.csv')"
   ]
  },
  {
   "cell_type": "code",
   "execution_count": 81,
   "metadata": {},
   "outputs": [],
   "source": [
    "diccionario = {'PassengerId' : test['PassengerId'], 'Survived' : test['Survived']}\n",
    "submit = pd.DataFrame(diccionario)\n",
    "submit.to_csv('data/theyallperish.csv', index=False)"
   ]
  },
  {
   "cell_type": "markdown",
   "metadata": {},
   "source": [
    "### Random Forests"
   ]
  },
  {
   "cell_type": "code",
   "execution_count": 82,
   "metadata": {},
   "outputs": [],
   "source": [
    "test_rf = data_test\n",
    "train_rf = data_train"
   ]
  },
  {
   "cell_type": "code",
   "execution_count": 83,
   "metadata": {},
   "outputs": [
    {
     "data": {
      "image/png": "[encoded data removed]",
      "text/plain": [
       "<Figure size 640x480 with 1 Axes>"
      ]
     },
     "metadata": {},
     "output_type": "display_data"
    }
   ],
   "source": [
    "train_rf.plot(x='Fare', y='Age', kind='scatter')\n",
    "plt.show()"
   ]
  },
  {
   "cell_type": "code",
   "execution_count": 84,
   "metadata": {},
   "outputs": [
    {
     "data": {
      "image/png": "[encoded data removed]",
      "text/plain": [
       "<Figure size 640x480 with 1 Axes>"
      ]
     },
     "metadata": {},
     "output_type": "display_data"
    }
   ],
   "source": [
    "train_rf.replace({'S' : 0, 'C' : 1, 'Q' : 2}).plot(x='Embarked', y='Age', kind='scatter')\n",
    "plt.show()"
   ]
  },
  {
   "cell_type": "code",
   "execution_count": 85,
   "metadata": {},
   "outputs": [
    {
     "data": {
      "image/png": "[encoded data removed]",
      "text/plain": [
       "<Figure size 640x480 with 1 Axes>"
      ]
     },
     "metadata": {},
     "output_type": "display_data"
    }
   ],
   "source": [
    "train_rf.plot(x='Pclass', y='Age', kind='scatter')\n",
    "plt.show()"
   ]
  },
  {
   "cell_type": "code",
   "execution_count": 86,
   "metadata": {},
   "outputs": [],
   "source": [
    "combi_rf = pd.concat([train_rf, test_rf], ignore_index=True)"
   ]
  },
  {
   "cell_type": "code",
   "execution_count": 87,
   "metadata": {},
   "outputs": [],
   "source": [
    "combi_rf['Embarked'] = combi_rf['Embarked'].fillna('S')"
   ]
  },
  {
   "cell_type": "code",
   "execution_count": 88,
   "metadata": {},
   "outputs": [],
   "source": [
    "fare_median = combi_rf['Fare'].median()"
   ]
  },
  {
   "cell_type": "code",
   "execution_count": 89,
   "metadata": {},
   "outputs": [],
   "source": [
    "combi_rf['Fare'] = combi_rf['Fare'].fillna(fare_median)"
   ]
  },
  {
   "cell_type": "code",
   "execution_count": 90,
   "metadata": {},
   "outputs": [],
   "source": [
    "age_mean = combi_rf['Age'].mean()"
   ]
  },
  {
   "cell_type": "code",
   "execution_count": 91,
   "metadata": {},
   "outputs": [],
   "source": [
    "combi_rf['Age'] = combi_rf['Age'].fillna(age_mean)"
   ]
  },
  {
   "cell_type": "code",
   "execution_count": 92,
   "metadata": {},
   "outputs": [
    {
     "data": {
      "text/plain": [
       "PassengerId       0\n",
       "Survived        418\n",
       "Pclass            0\n",
       "Name              0\n",
       "Sex               0\n",
       "Age               0\n",
       "SibSp             0\n",
       "Parch             0\n",
       "Ticket            0\n",
       "Fare              0\n",
       "Cabin          1014\n",
       "Embarked          0\n",
       "Child           418\n",
       "Fare2           418\n",
       "dtype: int64"
      ]
     },
     "execution_count": 92,
     "metadata": {},
     "output_type": "execute_result"
    }
   ],
   "source": [
    "combi_rf.isna().sum()"
   ]
  },
  {
   "cell_type": "code",
   "execution_count": 93,
   "metadata": {},
   "outputs": [
    {
     "data": {
      "text/plain": [
       "['Survived', 'Age', 'Fare', ' Cabin', 'Embarked', 'Child', 'Fare2']"
      ]
     },
     "execution_count": 93,
     "metadata": {},
     "output_type": "execute_result"
    }
   ],
   "source": [
    "['Survived', 'Age', 'Fare', ' Cabin', 'Embarked', 'Child', 'Fare2']"
   ]
  },
  {
   "cell_type": "code",
   "execution_count": 94,
   "metadata": {},
   "outputs": [],
   "source": [
    "combi_rf['Sex'] = combi_rf[['Sex']].replace({'male' : 0, 'female': 1})\n",
    "Embarked_rf = pd.get_dummies(combi_rf['Embarked'])"
   ]
  },
  {
   "cell_type": "code",
   "execution_count": 95,
   "metadata": {},
   "outputs": [],
   "source": [
    "combi_rf = pd.DataFrame.join(combi_rf, Embarked_rf)"
   ]
  },
  {
   "cell_type": "code",
   "execution_count": 96,
   "metadata": {},
   "outputs": [],
   "source": [
    "combi_rf_train = combi_rf.iloc[:891]\n",
    "combi_rf_test = combi_rf.iloc[891:]"
   ]
  },
  {
   "cell_type": "code",
   "execution_count": 97,
   "metadata": {},
   "outputs": [],
   "source": [
    "combi_rf_train = combi_rf_train[['PassengerId',\n",
    "                                 'Pclass', \n",
    "                                 'Sex', \n",
    "                                 'Age', \n",
    "                                 'SibSp',\n",
    "                                 'Parch', \n",
    "                                 'Fare', \n",
    "                                 'C', \n",
    "                                 'Q',\n",
    "                                 'S']]"
   ]
  },
  {
   "cell_type": "code",
   "execution_count": 98,
   "metadata": {},
   "outputs": [],
   "source": [
    "combi_rf_test = combi_rf_test[['PassengerId',\n",
    "                                 'Pclass', \n",
    "                                 'Sex', \n",
    "                                 'Age', \n",
    "                                 'SibSp',\n",
    "                                 'Parch', \n",
    "                                 'Fare', \n",
    "                                 'C', \n",
    "                                 'Q',\n",
    "                                 'S']]"
   ]
  },
  {
   "cell_type": "code",
   "execution_count": 99,
   "metadata": {},
   "outputs": [],
   "source": [
    "combi_rf_y = combi_rf['Survived'].iloc[: 891]"
   ]
  },
  {
   "cell_type": "code",
   "execution_count": 100,
   "metadata": {},
   "outputs": [],
   "source": [
    "from sklearn.ensemble import RandomForestClassifier\n",
    "\n",
    "clf = RandomForestClassifier(n_estimators=20)\n",
    "\n",
    "clf.fit(combi_rf_train, combi_rf_y)\n",
    "\n",
    "result = clf.predict(combi_rf_test)"
   ]
  },
  {
   "cell_type": "code",
   "execution_count": 101,
   "metadata": {},
   "outputs": [],
   "source": [
    "diccionario = {'PassengerId' : test['PassengerId'], 'Survived' : result}\n",
    "submit = pd.DataFrame(diccionario)\n",
    "submit.Survived = submit.Survived.astype('int')\n",
    "submit.to_csv('data/randomforest_01_estimator20.csv', index=False)"
   ]
  },
  {
   "cell_type": "markdown",
   "metadata": {},
   "source": [
    "### Intento 2 - PClass"
   ]
  },
  {
   "cell_type": "code",
   "execution_count": 102,
   "metadata": {},
   "outputs": [],
   "source": [
    "combi_rf = pd.concat([train_rf, test_rf], ignore_index=True)\n",
    "combi_rf['Embarked'] = combi_rf['Embarked'].fillna('S')\n",
    "fare_median = combi_rf['Fare'].median()\n",
    "combi_rf['Fare'] = combi_rf['Fare'].fillna(fare_median)"
   ]
  },
  {
   "cell_type": "code",
   "execution_count": 103,
   "metadata": {},
   "outputs": [],
   "source": [
    "combi_rf['Age'] = combi_rf['Age'].fillna(combi_rf.groupby(['Pclass']).Age.transform('mean'))"
   ]
  },
  {
   "cell_type": "code",
   "execution_count": 104,
   "metadata": {},
   "outputs": [],
   "source": [
    "combi_rf['Sex'] = combi_rf[['Sex']].replace({'male' : 0, 'female': 1})\n",
    "Embarked_rf = pd.get_dummies(combi_rf['Embarked'])"
   ]
  },
  {
   "cell_type": "code",
   "execution_count": 105,
   "metadata": {},
   "outputs": [],
   "source": [
    "combi_rf = pd.DataFrame.join(combi_rf, Embarked_rf)\n",
    "combi_rf_train = combi_rf.iloc[:891]\n",
    "combi_rf_test = combi_rf.iloc[891:]\n",
    "\n",
    "combi_rf_train = combi_rf_train[['PassengerId',\n",
    "                                 'Pclass', \n",
    "                                 'Sex', \n",
    "                                 'Age', \n",
    "                                 'SibSp',\n",
    "                                 'Parch', \n",
    "                                 'Fare', \n",
    "                                 'C', \n",
    "                                 'Q',\n",
    "                                 'S']]\n",
    "\n",
    "combi_rf_test = combi_rf_test[['PassengerId',\n",
    "                                 'Pclass', \n",
    "                                 'Sex', \n",
    "                                 'Age', \n",
    "                                 'SibSp',\n",
    "                                 'Parch', \n",
    "                                 'Fare', \n",
    "                                 'C', \n",
    "                                 'Q',\n",
    "                                 'S']]\n",
    "\n",
    "combi_rf_y = combi_rf['Survived'].iloc[: 891]\n",
    "\n",
    "from sklearn.ensemble import RandomForestClassifier\n",
    "\n",
    "clf = RandomForestClassifier()\n",
    "\n",
    "clf.fit(combi_rf_train, combi_rf_y)\n",
    "\n",
    "result = clf.predict(combi_rf_test)"
   ]
  },
  {
   "cell_type": "code",
   "execution_count": 106,
   "metadata": {},
   "outputs": [],
   "source": [
    "diccionario = {'PassengerId' : test['PassengerId'], 'Survived' : result}\n",
    "submit = pd.DataFrame(diccionario)\n",
    "submit.Survived = submit.Survived.astype('int')\n",
    "submit.to_csv('data/randomforest_02_Pclass.csv', index=False)"
   ]
  },
  {
   "cell_type": "markdown",
   "metadata": {},
   "source": [
    "#### Intento 3 - Embarked"
   ]
  },
  {
   "cell_type": "code",
   "execution_count": 107,
   "metadata": {},
   "outputs": [],
   "source": [
    "combi_rf = pd.concat([train_rf, test_rf], ignore_index=True)\n",
    "combi_rf['Embarked'] = combi_rf['Embarked'].fillna('S')\n",
    "fare_median = combi_rf['Fare'].median()\n",
    "combi_rf['Fare'] = combi_rf['Fare'].fillna(fare_median)"
   ]
  },
  {
   "cell_type": "code",
   "execution_count": 108,
   "metadata": {},
   "outputs": [],
   "source": [
    "combi_rf['Age'] = combi_rf['Age'].fillna(combi_rf.groupby(['Embarked']).Age.transform('mean'))"
   ]
  },
  {
   "cell_type": "code",
   "execution_count": 109,
   "metadata": {},
   "outputs": [],
   "source": [
    "combi_rf['Sex'] = combi_rf[['Sex']].replace({'male' : 0, 'female': 1})\n",
    "Embarked_rf = pd.get_dummies(combi_rf['Embarked'])"
   ]
  },
  {
   "cell_type": "code",
   "execution_count": 110,
   "metadata": {},
   "outputs": [],
   "source": [
    "combi_rf = pd.DataFrame.join(combi_rf, Embarked_rf)\n",
    "combi_rf_train = combi_rf.iloc[:891]\n",
    "combi_rf_test = combi_rf.iloc[891:]\n",
    "\n",
    "combi_rf_train = combi_rf_train[['PassengerId',\n",
    "                                 'Pclass', \n",
    "                                 'Sex', \n",
    "                                 'Age', \n",
    "                                 'SibSp',\n",
    "                                 'Parch', \n",
    "                                 'Fare', \n",
    "                                 'C', \n",
    "                                 'Q',\n",
    "                                 'S']]\n",
    "\n",
    "combi_rf_test = combi_rf_test[['PassengerId',\n",
    "                                 'Pclass', \n",
    "                                 'Sex', \n",
    "                                 'Age', \n",
    "                                 'SibSp',\n",
    "                                 'Parch', \n",
    "                                 'Fare', \n",
    "                                 'C', \n",
    "                                 'Q',\n",
    "                                 'S']]\n",
    "\n",
    "combi_rf_y = combi_rf['Survived'].iloc[: 891]\n",
    "\n",
    "from sklearn.ensemble import RandomForestClassifier\n",
    "\n",
    "clf = RandomForestClassifier()\n",
    "\n",
    "clf.fit(combi_rf_train, combi_rf_y)\n",
    "\n",
    "result = clf.predict(combi_rf_test)"
   ]
  },
  {
   "cell_type": "code",
   "execution_count": 111,
   "metadata": {},
   "outputs": [],
   "source": [
    "diccionario = {'PassengerId' : test['PassengerId'], 'Survived' : result}\n",
    "submit = pd.DataFrame(diccionario)\n",
    "submit.Survived = submit.Survived.astype('int')\n",
    "submit.to_csv('data/randomforest_03__Embarked.csv', index=False)"
   ]
  },
  {
   "cell_type": "markdown",
   "metadata": {},
   "source": [
    "#### Intento 4 - random forest para obtener el Age\n"
   ]
  },
  {
   "cell_type": "code",
   "execution_count": 112,
   "metadata": {},
   "outputs": [],
   "source": [
    "combi_rf = pd.concat([train_rf, test_rf], ignore_index=True)\n",
    "combi_rf['Embarked'] = combi_rf['Embarked'].fillna('S')\n",
    "fare_median = combi_rf['Fare'].median()\n",
    "combi_rf['Fare'] = combi_rf['Fare'].fillna(fare_median)"
   ]
  },
  {
   "cell_type": "code",
   "execution_count": 113,
   "metadata": {},
   "outputs": [],
   "source": [
    "combi_rf['Sex'] = combi_rf[['Sex']].replace({'male' : 0, 'female': 1})\n",
    "Embarked_rf = pd.get_dummies(combi_rf['Embarked'])"
   ]
  },
  {
   "cell_type": "code",
   "execution_count": 114,
   "metadata": {},
   "outputs": [],
   "source": [
    "combi_rf = pd.DataFrame.join(combi_rf, Embarked_rf)"
   ]
  },
  {
   "cell_type": "code",
   "execution_count": 115,
   "metadata": {},
   "outputs": [],
   "source": [
    "train_Age_rf = combi_rf.dropna()\n",
    "\n",
    "# test_Age_rf = combi_rf.loc[combi_rf['Age'].isna()]"
   ]
  },
  {
   "cell_type": "code",
   "execution_count": 116,
   "metadata": {},
   "outputs": [],
   "source": [
    "train_Age_rf_X = train_Age_rf[['PassengerId', \n",
    "                               'Pclass',  \n",
    "                               'Sex', \n",
    "                               'SibSp',\n",
    "                               'Parch',  \n",
    "                               'Fare', \n",
    "                               'C',\n",
    "                               'Q', \n",
    "                               'S']]\n",
    "\n",
    "train_Age_rf_y = train_Age_rf['Age']\n",
    "\n",
    "test_Age_rf_X = combi_rf[['PassengerId', \n",
    "                             'Pclass',  \n",
    "                             'Sex', \n",
    "                             'SibSp',\n",
    "                             'Parch',  \n",
    "                             'Fare', \n",
    "                             'C',\n",
    "                             'Q', \n",
    "                             'S']]"
   ]
  },
  {
   "cell_type": "code",
   "execution_count": 117,
   "metadata": {},
   "outputs": [],
   "source": [
    "from sklearn.ensemble import RandomForestRegressor\n",
    "\n",
    "clr = RandomForestRegressor()\n",
    "\n",
    "clr.fit(train_Age_rf_X, train_Age_rf_y)\n",
    "\n",
    "result = clr.predict(test_Age_rf_X)"
   ]
  },
  {
   "cell_type": "code",
   "execution_count": 118,
   "metadata": {},
   "outputs": [],
   "source": [
    "combi_rf['Age'] = combi_rf['Age'].fillna(pd.Series(result))"
   ]
  },
  {
   "cell_type": "code",
   "execution_count": 119,
   "metadata": {},
   "outputs": [],
   "source": [
    "combi_rf_train = combi_rf.iloc[:891]\n",
    "combi_rf_test = combi_rf.iloc[891:]\n",
    "\n",
    "combi_rf_train = combi_rf_train[['PassengerId',\n",
    "                                 'Pclass', \n",
    "                                 'Sex', \n",
    "                                 'Age', \n",
    "                                 'SibSp',\n",
    "                                 'Parch', \n",
    "                                 'Fare', \n",
    "                                 'C', \n",
    "                                 'Q',\n",
    "                                 'S']]\n",
    "\n",
    "combi_rf_test = combi_rf_test[['PassengerId',\n",
    "                                 'Pclass', \n",
    "                                 'Sex', \n",
    "                                 'Age', \n",
    "                                 'SibSp',\n",
    "                                 'Parch', \n",
    "                                 'Fare', \n",
    "                                 'C', \n",
    "                                 'Q',\n",
    "                                 'S']]\n",
    "\n",
    "combi_rf_y = combi_rf['Survived'].iloc[: 891]\n",
    "\n",
    "from sklearn.ensemble import RandomForestClassifier\n",
    "\n",
    "clf = RandomForestClassifier()\n",
    "\n",
    "clf.fit(combi_rf_train, combi_rf_y)\n",
    "\n",
    "result = clf.predict(combi_rf_test)"
   ]
  },
  {
   "cell_type": "code",
   "execution_count": 120,
   "metadata": {},
   "outputs": [],
   "source": [
    "diccionario = {'PassengerId' : test['PassengerId'], 'Survived' : result}\n",
    "submit = pd.DataFrame(diccionario)\n",
    "submit.Survived = submit.Survived.astype('int')\n",
    "submit.to_csv('data/randomforest_04_Agepredict.csv', index=False)"
   ]
  },
  {
   "cell_type": "markdown",
   "metadata": {},
   "source": [
    "#### Intento 5 - Random forest con parámetros"
   ]
  },
  {
   "cell_type": "code",
   "execution_count": 121,
   "metadata": {},
   "outputs": [],
   "source": [
    "combi_rf = pd.concat([train_rf, test_rf], ignore_index=True)\n",
    "combi_rf.columns\n",
    "\n",
    "combi_rf['Embarked'] = combi_rf['Embarked'].fillna('S')\n",
    "\n",
    "fare_median = combi_rf['Fare'].median()\n",
    "combi_rf['Fare'] = combi_rf['Fare'].fillna(fare_median)\n",
    "\n",
    "age_mean = combi_rf['Age'].mean()\n",
    "combi_rf['Age'] = combi_rf['Age'].fillna(age_mean)\n",
    "\n",
    "combi_rf['Sex'] = combi_rf[['Sex']].replace({'male' : 0, 'female': 1})\n",
    "\n",
    "Embarked_rf = pd.get_dummies(combi_rf['Embarked'])\n",
    "combi_rf = pd.DataFrame.join(combi_rf, Embarked_rf)\n",
    "\n",
    "# combi_rf.isna().sum()\n",
    "\n",
    "combi_rf_train_X = combi_rf[['PassengerId',\n",
    "                                 'Pclass', \n",
    "                                 'Sex', \n",
    "                                 'Age', \n",
    "                                 'SibSp',\n",
    "                                 'Parch', \n",
    "                                 'Fare', \n",
    "                                 'C', \n",
    "                                 'Q',\n",
    "                                 'S']].iloc[:891]\n",
    "\n",
    "combi_rf_test = combi_rf[['PassengerId',\n",
    "                                 'Pclass', \n",
    "                                 'Sex', \n",
    "                                 'Age', \n",
    "                                 'SibSp',\n",
    "                                 'Parch', \n",
    "                                 'Fare', \n",
    "                                 'C', \n",
    "                                 'Q',\n",
    "                                 'S']].iloc[891:]\n",
    "\n",
    "combi_rf_train_y = combi_rf['Survived'].iloc[: 891]\n"
   ]
  },
  {
   "cell_type": "code",
   "execution_count": 122,
   "metadata": {},
   "outputs": [
    {
     "name": "stderr",
     "output_type": "stream",
     "text": [
      "/home/belenareal/python_projects/env/lib/python3.10/site-packages/sklearn/ensemble/_forest.py:424: FutureWarning: `max_features='auto'` has been deprecated in 1.1 and will be removed in 1.3. To keep the past behaviour, explicitly set `max_features='sqrt'` or remove this parameter as it is also the default value for RandomForestClassifiers and ExtraTreesClassifiers.\n",
      "  warn(\n"
     ]
    }
   ],
   "source": [
    "clf = RandomForestClassifier(n_estimators = 20 , ## queda fijo en 20 - default = 10\n",
    "                             max_features = 'auto' , ## default = 'auto'>'log2'>'sqrt'>None\n",
    "                             max_depth = None, ## default = None > 10 = 20 > 3\n",
    "                             min_samples_split = 2, ## default = 2 > 5\n",
    "                             min_samples_leaf = 1, ## default = 1 > 5\n",
    "                             max_leaf_nodes = None, ## default None > 3\n",
    "                             random_state = None ## default None\n",
    "                             )\n",
    "\n",
    "clf.fit(combi_rf_train_X, combi_rf_train_y)\n",
    "\n",
    "result = clf.predict(combi_rf_test)"
   ]
  },
  {
   "cell_type": "code",
   "execution_count": 123,
   "metadata": {},
   "outputs": [],
   "source": [
    "## ---> feature engineering  (titulo, grupo familiar)"
   ]
  },
  {
   "cell_type": "code",
   "execution_count": 124,
   "metadata": {},
   "outputs": [],
   "source": [
    "diccionario = {'PassengerId' : test['PassengerId'], 'Survived' : result}\n",
    "submit = pd.DataFrame(diccionario)\n",
    "submit.Survived = submit.Survived.astype('int')\n",
    "submit.to_csv('data/randomforest_05_RF_parameters_nodes3.csv', index=False)"
   ]
  },
  {
   "cell_type": "markdown",
   "metadata": {},
   "source": [
    "#### Intento 6 - agregar feacture"
   ]
  },
  {
   "cell_type": "code",
   "execution_count": 125,
   "metadata": {},
   "outputs": [],
   "source": [
    "test_rf = data_test\n",
    "train_rf = data_train\n",
    "combi_rf = pd.concat([train_rf, test_rf], ignore_index=True)"
   ]
  },
  {
   "cell_type": "code",
   "execution_count": 126,
   "metadata": {},
   "outputs": [],
   "source": [
    "combi_rf['Embarked'] = combi_rf['Embarked'].fillna('S')\n",
    "\n",
    "fare_median = combi_rf['Fare'].median()\n",
    "combi_rf['Fare'] = combi_rf['Fare'].fillna(fare_median)\n",
    "\n",
    "# age_mean = combi_rf['Age'].mean()\n",
    "# combi_rf['Age'] = combi_rf['Age'].fillna(age_mean)\n",
    "\n",
    "combi_rf['Sex'] = combi_rf[['Sex']].replace({'male' : 0, 'female': 1})\n",
    "\n",
    "Embarked_rf = pd.get_dummies(combi_rf['Embarked'])\n",
    "combi_rf = pd.DataFrame.join(combi_rf, Embarked_rf)\n",
    "\n",
    "# combi_rf.isna().sum()\n"
   ]
  },
  {
   "cell_type": "code",
   "execution_count": 127,
   "metadata": {},
   "outputs": [],
   "source": [
    "string_to_split = combi_rf['Name'][0]\n",
    "delimiter = \",\"\n",
    "string_to_split.split(delimiter)\n",
    "\n",
    "\n",
    "combi_rf['Title'] = combi_rf['Name'].apply(lambda x: re.split('[,.]', x)[1].strip() if pd.notnull(x) else None)\n",
    "\n",
    "f = lambda x: re.split('[,.]', x)[1].strip() if pd.notnull(x) else None\n",
    "\n",
    "\n",
    "\n",
    "def g(x):\n",
    "    return re.split('[,.]', x)[1].strip() if pd.notnull(x) else None\n",
    "\n",
    "\n",
    "\n",
    "combi_rf['Title'] = combi_rf['Title'].str.replace(' ', '')\n",
    "\n",
    "\n",
    "title_counts = combi_rf['Title'].value_counts()\n",
    "title_counts\n",
    "\n",
    "combi_rf['Title'].replace(['Mme', 'Mlle'], 'Mlle', inplace=True)\n",
    "\n",
    "combi_rf['Title'].replace(['Capt', 'Don', 'Major', 'Sir'], 'Sir', inplace=True)\n",
    "combi_rf['Title'].replace(['Dona', 'Lady', 'the Countess', 'Jonkheer'], 'Lady', inplace=True)\n"
   ]
  },
  {
   "cell_type": "code",
   "execution_count": 128,
   "metadata": {},
   "outputs": [],
   "source": [
    "\n",
    "combi_rf['FamilySize'] = combi_rf['SibSp'] + combi_rf['Parch'] + 1\n",
    "\n",
    "combi_rf['Surname'] = combi_rf['Name'].str.split('[,.]').str[0]\n",
    "\n",
    "combi_rf['FamilyID'] = combi_rf['FamilySize'].astype(str) + combi_rf['Surname']\n",
    "\n",
    "combi_rf.loc[combi_rf['FamilySize'] <= 2, 'FamilyID'] = 'Small'\n",
    "\n",
    "title_counts = combi_rf['FamilyID'].value_counts()\n",
    "title_counts\n",
    "\n",
    "famIDs = pd.DataFrame(combi_rf['FamilyID'].value_counts()).reset_index()\n",
    "famIDs.columns = ['FamilyID', 'Count']\n",
    "\n",
    "famIDs = famIDs[famIDs['Count'] <= 2]\n",
    "\n",
    "combi_rf.loc[combi_rf['FamilyID'].isin(famIDs['FamilyID']), 'FamilyID'] = 'Small'\n",
    "combi_rf['FamilyID'] = combi_rf['FamilyID'].astype('category')\n"
   ]
  },
  {
   "cell_type": "code",
   "execution_count": 129,
   "metadata": {},
   "outputs": [],
   "source": [
    "combi_rf = combi_rf[['PassengerId',\n",
    "                     'Pclass', \n",
    "                     'Sex', \n",
    "                     'Age', \n",
    "                     'SibSp',\n",
    "                     'Parch', \n",
    "                     'Fare', \n",
    "                     'C', \n",
    "                     'Q',\n",
    "                     'S',\n",
    "                     'Title',\n",
    "                     'FamilySize',\n",
    "                     'Survived',\n",
    "                     ]].replace({'Mr': 1, \n",
    "                                 'Mrs': 2, \n",
    "                                 'Miss': 3, \n",
    "                                 'Master': 4, \n",
    "                                 'Sir': 5,\n",
    "                                 'Rev': 6, \n",
    "                                 'Dr': 7, \n",
    "                                 'Mlle': 8, \n",
    "                                 'Ms': 9, \n",
    "                                 'Lady': 10,\n",
    "                                 'Col': 11, \n",
    "                                 'theCountess': 12\n",
    "                                  })\n"
   ]
  },
  {
   "cell_type": "code",
   "execution_count": 130,
   "metadata": {},
   "outputs": [],
   "source": [
    "train_Age_rf = combi_rf.dropna()"
   ]
  },
  {
   "cell_type": "code",
   "execution_count": 131,
   "metadata": {},
   "outputs": [],
   "source": [
    "train_Age_rf_X = train_Age_rf[['PassengerId',\n",
    "                                'Pclass', \n",
    "                                'Sex', \n",
    "                                'SibSp',\n",
    "                                'Parch', \n",
    "                                'Fare', \n",
    "                                'C', \n",
    "                                'Q',\n",
    "                                'S',\n",
    "                                'Title',\n",
    "                                'FamilySize']]\n",
    "\n",
    "train_Age_rf_y = train_Age_rf['Age']\n",
    "\n",
    "test_Age_rf_X = combi_rf[['PassengerId',\n",
    "                          'Pclass', \n",
    "                          'Sex', \n",
    "                          'SibSp',\n",
    "                          'Parch', \n",
    "                          'Fare', \n",
    "                          'C', \n",
    "                          'Q',\n",
    "                          'S',\n",
    "                          'Title',\n",
    "                          'FamilySize']]"
   ]
  },
  {
   "cell_type": "code",
   "execution_count": 132,
   "metadata": {},
   "outputs": [],
   "source": [
    "from sklearn.ensemble import RandomForestRegressor\n",
    "\n",
    "clr = RandomForestRegressor()\n",
    "\n",
    "clr.fit(train_Age_rf_X, train_Age_rf_y)\n",
    "\n",
    "result = clr.predict(test_Age_rf_X)"
   ]
  },
  {
   "cell_type": "code",
   "execution_count": 133,
   "metadata": {},
   "outputs": [],
   "source": [
    "combi_rf['Age'] = combi_rf['Age'].fillna(pd.Series(result))"
   ]
  },
  {
   "cell_type": "code",
   "execution_count": 134,
   "metadata": {},
   "outputs": [],
   "source": [
    "combi_rf_train_X = combi_rf[['PassengerId',\n",
    "                                 'Pclass', \n",
    "                                 'Sex', \n",
    "                                 'Age', \n",
    "                                 'SibSp',\n",
    "                                 'Parch', \n",
    "                                 'Fare', \n",
    "                                 'C', \n",
    "                                 'Q',\n",
    "                                 'S',\n",
    "                                 'Title',\n",
    "                                 'FamilySize']].iloc[:891]\n",
    "\n",
    "combi_rf_test = combi_rf[['PassengerId',\n",
    "                                 'Pclass', \n",
    "                                 'Sex', \n",
    "                                 'Age', \n",
    "                                 'SibSp',\n",
    "                                 'Parch', \n",
    "                                 'Fare', \n",
    "                                 'C', \n",
    "                                 'Q',\n",
    "                                 'S',\n",
    "                                 'Title',\n",
    "                                 'FamilySize']].iloc[891:]\n",
    "\n",
    "combi_rf_train_y = combi_rf['Survived'].iloc[: 891]"
   ]
  },
  {
   "cell_type": "code",
   "execution_count": 135,
   "metadata": {},
   "outputs": [],
   "source": [
    "clf = RandomForestClassifier(n_estimators = 20)\n",
    "\n",
    "clf.fit(combi_rf_train_X, combi_rf_train_y)\n",
    "\n",
    "result = clf.predict(combi_rf_test)"
   ]
  },
  {
   "cell_type": "code",
   "execution_count": 136,
   "metadata": {},
   "outputs": [],
   "source": [
    "diccionario = {'PassengerId' : test['PassengerId'], 'Survived' : result}\n",
    "submit = pd.DataFrame(diccionario)\n",
    "submit.Survived = submit.Survived.astype('int')\n",
    "submit.to_csv('data/randomforest_05_RF_masparameters_Agepregressor.csv', index=False)"
   ]
  },
  {
   "cell_type": "markdown",
   "metadata": {},
   "source": [
    "### Modificar parameters nuevamente"
   ]
  },
  {
   "cell_type": "code",
   "execution_count": 137,
   "metadata": {},
   "outputs": [],
   "source": [
    "####################\n",
    "### COMBI\n",
    "\n",
    "test_rf = data_test\n",
    "train_rf = data_train\n",
    "combi_rf = pd.concat([train_rf, test_rf], ignore_index=True)\n",
    "\n"
   ]
  },
  {
   "cell_type": "code",
   "execution_count": 138,
   "metadata": {},
   "outputs": [],
   "source": [
    "####################\n",
    "### DELETE NAN\n",
    "\n",
    "combi_rf['Embarked'] = combi_rf['Embarked'].fillna('S')\n",
    "\n",
    "fare_median = combi_rf['Fare'].median()\n",
    "combi_rf['Fare'] = combi_rf['Fare'].fillna(fare_median)\n",
    "\n",
    "# age_mean = combi_rf['Age'].mean()\n",
    "# combi_rf['Age'] = combi_rf['Age'].fillna(age_mean)\n",
    "\n",
    "combi_rf['Sex'] = combi_rf[['Sex']].replace({'male' : 0, 'female': 1})\n",
    "\n",
    "Embarked_rf = pd.get_dummies(combi_rf['Embarked'])\n",
    "combi_rf = pd.DataFrame.join(combi_rf, Embarked_rf)\n",
    "\n",
    "# combi_rf.isna().sum()\n"
   ]
  },
  {
   "cell_type": "code",
   "execution_count": 139,
   "metadata": {},
   "outputs": [],
   "source": [
    "####################\n",
    "### TITLE\n",
    "\n",
    "string_to_split = combi_rf['Name'][0]\n",
    "delimiter = \",\"\n",
    "string_to_split.split(delimiter)\n",
    "\n",
    "\n",
    "combi_rf['Title'] = combi_rf['Name'].apply(lambda x: re.split('[,.]', x)[1].strip() if pd.notnull(x) else None)\n",
    "\n",
    "f = lambda x: re.split('[,.]', x)[1].strip() if pd.notnull(x) else None\n",
    "\n",
    "\n",
    "def g(x):\n",
    "    return re.split('[,.]', x)[1].strip() if pd.notnull(x) else None\n",
    "\n",
    "combi_rf['Title'] = combi_rf['Title'].str.replace(' ', '')\n",
    "\n",
    "\n",
    "title_counts = combi_rf['Title'].value_counts()\n",
    "title_counts\n",
    "\n",
    "combi_rf['Title'].replace(['Mme', 'Mlle'], 'Mlle', inplace=True)\n",
    "\n",
    "combi_rf['Title'].replace(['Capt', 'Don', 'Major', 'Sir'], 'Sir', inplace=True)\n",
    "combi_rf['Title'].replace(['Dona', 'Lady', 'the Countess', 'Jonkheer'], 'Lady', inplace=True)\n"
   ]
  },
  {
   "cell_type": "code",
   "execution_count": 140,
   "metadata": {},
   "outputs": [],
   "source": [
    "title_rf = pd.get_dummies(combi_rf['Title'])\n",
    "combi_rf = pd.DataFrame.join(combi_rf, title_rf)\n"
   ]
  },
  {
   "cell_type": "code",
   "execution_count": 141,
   "metadata": {},
   "outputs": [],
   "source": [
    "####################\n",
    "### FAMILY SIZE\n",
    "combi_rf['FamilySize'] = combi_rf['SibSp'] + combi_rf['Parch'] + 1\n",
    "\n",
    "combi_rf['Surname'] = combi_rf['Name'].str.split('[,.]').str[0]\n",
    "\n",
    "combi_rf['FamilyID'] = combi_rf['FamilySize'].astype(str) + combi_rf['Surname']\n",
    "\n",
    "combi_rf.loc[combi_rf['FamilySize'] <= 2, 'FamilyID'] = 'Small'\n",
    "\n",
    "title_counts = combi_rf['FamilyID'].value_counts()\n",
    "title_counts\n",
    "\n",
    "famIDs = pd.DataFrame(combi_rf['FamilyID'].value_counts()).reset_index()\n",
    "famIDs.columns = ['FamilyID', 'Count']\n",
    "\n",
    "famIDs = famIDs[famIDs['Count'] <= 2]\n",
    "\n",
    "combi_rf.loc[combi_rf['FamilyID'].isin(famIDs['FamilyID']), 'FamilyID'] = 'Small'\n",
    "combi_rf['FamilyID'] = combi_rf['FamilyID'].astype('category')\n",
    "\n",
    "combi_rf = combi_rf[['PassengerId',\n",
    "                     'Pclass', \n",
    "                     'Sex', \n",
    "                     'Age', \n",
    "                     'SibSp',\n",
    "                     'Parch', \n",
    "                     'Fare', \n",
    "                     'C', \n",
    "                     'Q',\n",
    "                     'S',\n",
    "                     'Title',\n",
    "                     'FamilySize',\n",
    "                     'Col', 'Dr', 'Lady', 'Master', 'Miss', 'Mlle', 'Mr',\n",
    "                     'Mrs', 'Ms', 'Rev', 'Sir', 'theCountess',\n",
    "                     'Survived'\n",
    "                     ]]"
   ]
  },
  {
   "cell_type": "code",
   "execution_count": 142,
   "metadata": {},
   "outputs": [],
   "source": [
    "####################\n",
    "### AGE - REGRESSOR\n",
    "train_Age_rf = combi_rf.dropna()\n",
    "\n",
    "train_Age_rf_X = train_Age_rf[['PassengerId',\n",
    "                                'Pclass', \n",
    "                                'Sex', \n",
    "                                'SibSp',\n",
    "                                'Parch', \n",
    "                                'Fare', \n",
    "                                'C', \n",
    "                                'Q',\n",
    "                                'S',\n",
    "                              #   'Title',\n",
    "                                'FamilySize',  'Col', 'Dr', 'Lady', 'Master', 'Miss', 'Mlle', 'Mr',\n",
    "                     'Mrs', 'Ms', 'Rev', 'Sir', 'theCountess',]]\n",
    "\n",
    "train_Age_rf_y = train_Age_rf['Age']\n",
    "\n",
    "test_Age_rf_X = combi_rf[['PassengerId',\n",
    "                          'Pclass', \n",
    "                          'Sex', \n",
    "                          'SibSp',\n",
    "                          'Parch', \n",
    "                          'Fare', \n",
    "                          'C', \n",
    "                          'Q',\n",
    "                          'S',\n",
    "                         #  'Title',\n",
    "                          'FamilySize',  'Col', 'Dr', 'Lady', 'Master', 'Miss', 'Mlle', 'Mr',\n",
    "                     'Mrs', 'Ms', 'Rev', 'Sir', 'theCountess',]]\n",
    "\n",
    "from sklearn.ensemble import RandomForestRegressor\n",
    "\n",
    "clr = RandomForestRegressor()\n",
    "\n",
    "clr.fit(train_Age_rf_X, train_Age_rf_y)\n",
    "\n",
    "result = clr.predict(test_Age_rf_X)\n",
    "\n",
    "combi_rf['Age'] = combi_rf['Age'].fillna(pd.Series(result))"
   ]
  },
  {
   "cell_type": "code",
   "execution_count": 143,
   "metadata": {},
   "outputs": [],
   "source": [
    "####################\n",
    "### RANDOM FORESTS\n",
    "columns_to_keep = [ 'Pclass', \n",
    "                                 'Sex', \n",
    "                                 'Age', \n",
    "                                 'SibSp',\n",
    "                                 'Parch', \n",
    "                                 'Fare', \n",
    "                                 'C', \n",
    "                                 'Q',\n",
    "                                 'S',\n",
    "                                 'FamilySize',   'Col', 'Dr', 'Lady', 'Master', 'Miss', 'Mlle', 'Mr',\n",
    "                     'Mrs', 'Ms', 'Rev', 'Sir', 'theCountess',]\n",
    "\n",
    "combi_rf_train_X = combi_rf[columns_to_keep].iloc[:891]\n",
    "\n",
    "combi_rf_test = combi_rf[columns_to_keep].iloc[891:]\n",
    "\n",
    "combi_rf_train_y = combi_rf['Survived'].iloc[: 891]\n",
    "\n",
    "####\n",
    "clf = RandomForestClassifier(n_estimators = 100)\n",
    "\n",
    "clf.fit(combi_rf_train_X, combi_rf_train_y)\n",
    "\n",
    "result = clf.predict(combi_rf_test)"
   ]
  },
  {
   "cell_type": "code",
   "execution_count": 144,
   "metadata": {},
   "outputs": [],
   "source": [
    "####################\n",
    "### SAVE DATA\n",
    "\n",
    "diccionario = {'PassengerId' : test['PassengerId'], 'Survived' : result}\n",
    "submit = pd.DataFrame(diccionario)\n",
    "submit.Survived = submit.Survived.astype('int')\n",
    "submit.to_csv('data/randomforest_06_RF_add_dummy_titles_100.csv', index=False)"
   ]
  },
  {
   "cell_type": "markdown",
   "metadata": {},
   "source": [
    "## LightGBM"
   ]
  },
  {
   "cell_type": "code",
   "execution_count": 145,
   "metadata": {},
   "outputs": [],
   "source": [
    "# import lightgbm as lgb"
   ]
  },
  {
   "cell_type": "code",
   "execution_count": 146,
   "metadata": {},
   "outputs": [],
   "source": [
    "# train = lgb.Dataset(data_train)"
   ]
  },
  {
   "cell_type": "markdown",
   "metadata": {},
   "source": [
    "## Feautures "
   ]
  },
  {
   "cell_type": "code",
   "execution_count": 147,
   "metadata": {},
   "outputs": [],
   "source": [
    "test = data_test\n",
    "train = data_train\n",
    "combi = pd.concat([train, test], ignore_index=True)"
   ]
  },
  {
   "cell_type": "code",
   "execution_count": 148,
   "metadata": {},
   "outputs": [],
   "source": [
    "####################\n",
    "### DELETE NAN\n",
    "\n",
    "combi['Embarked'] = combi['Embarked'].fillna('S')\n",
    "\n",
    "fare_median = combi['Fare'].median()\n",
    "combi['Fare'] = combi['Fare'].fillna(fare_median)\n",
    "\n",
    "age_mean = combi['Age'].mean()\n",
    "combi['Age'] = combi['Age'].fillna(age_mean)\n",
    "\n",
    "combi['Sex'] = combi[['Sex']].replace({'male' : 0, 'female': 1})\n",
    "\n",
    "Embarked = pd.get_dummies(combi['Embarked'])\n",
    "combi = pd.DataFrame.join(combi, Embarked)\n"
   ]
  },
  {
   "cell_type": "code",
   "execution_count": 149,
   "metadata": {},
   "outputs": [],
   "source": [
    "df = combi.copy()\n",
    "####################\n",
    "### cabin \n",
    "# Contar elementos separados por espacio\n",
    "df['cabin_nan'] = df['Cabin'].isna().astype(int)\n",
    "\n",
    "df['cabin_count'] = df['Cabin'].apply(lambda x: len(str(x).split()))\n",
    "\n",
    "# Obtener la última letra y número\n",
    "df[['cabin_letter', 'cabin_number']] = df['Cabin'].str.extract(r'([A-Za-z]+)(\\d+)?$')\n",
    "\n",
    "df['cabin_letter'] = 'cabin_' + df ['cabin_letter']\n",
    "\n",
    "df['cabin_number'] = df['cabin_number'].astype(float)\n",
    "\n",
    "# cabin_number_mean = df['cabin_number'].mean()\n",
    "# df['cabin_number'] = df['cabin_number'].fillna(cabin_number_mean)\n",
    "\n",
    "# # # Si hay dos letras y la primera no tiene número, obtener la primera letra y guardarla en 'cabin_sub'\n",
    "# # df['cabin_sub'] = df['Cabin'].str.extract(r'([A-Za-z])[^0-9]')\n",
    "\n",
    "cabin_letter = pd.get_dummies(df['cabin_letter'])\n",
    "df = pd.DataFrame.join(df, cabin_letter)\n",
    "\n",
    "# df['cabin_letter'] = df['cabin_letter'].astype(float)\n",
    "# cabin_letter_mean = df['cabin_letter'].mean()\n",
    "# df['cabin_letter'] = df['cabin_letter'].fillna(cabin_letter_mean)\n",
    "\n"
   ]
  },
  {
   "cell_type": "code",
   "execution_count": 150,
   "metadata": {},
   "outputs": [
    {
     "data": {
      "text/plain": [
       "Index(['PassengerId', 'Survived', 'Pclass', 'Name', 'Sex', 'Age', 'SibSp',\n",
       "       'Parch', 'Ticket', 'Fare', 'Cabin', 'Embarked', 'Child', 'Fare2', 'C',\n",
       "       'Q', 'S', 'cabin_nan', 'cabin_count', 'cabin_letter', 'cabin_number',\n",
       "       'cabin_A', 'cabin_B', 'cabin_C', 'cabin_D', 'cabin_E', 'cabin_F',\n",
       "       'cabin_G', 'cabin_T'],\n",
       "      dtype='object')"
      ]
     },
     "execution_count": 150,
     "metadata": {},
     "output_type": "execute_result"
    }
   ],
   "source": [
    "df.columns"
   ]
  },
  {
   "cell_type": "code",
   "execution_count": 151,
   "metadata": {},
   "outputs": [],
   "source": [
    "a = df[['Survived',\n",
    "       'Pclass', \n",
    "       'Sex', \n",
    "       'Age', \n",
    "       'SibSp',\n",
    "       'Parch', \n",
    "       'Fare', \n",
    "       'C', \n",
    "       'Q',\n",
    "       'S',\n",
    "       'cabin_nan', \n",
    "       'cabin_A', \n",
    "       'cabin_B', \n",
    "       'cabin_C', \n",
    "       'cabin_D', \n",
    "       'cabin_E', \n",
    "       'cabin_F',\n",
    "       'cabin_G', \n",
    "       'cabin_T'\n",
    "       ]]"
   ]
  },
  {
   "cell_type": "code",
   "execution_count": 152,
   "metadata": {},
   "outputs": [],
   "source": [
    "####################\n",
    "### RANDOM FORESTS\n",
    "columns_to_keep = ['Pclass', \n",
    "                   'Sex', \n",
    "                   'Age', \n",
    "                   'SibSp',\n",
    "                   'Parch', \n",
    "                   'Fare', \n",
    "                   'C', \n",
    "                   'Q',\n",
    "                   'S',\n",
    "                   'cabin_nan', \n",
    "                   'cabin_A', \n",
    "                   'cabin_B', \n",
    "                   'cabin_C', \n",
    "                   'cabin_D', \n",
    "                   'cabin_E', \n",
    "                   'cabin_F',\n",
    "                   'cabin_G', \n",
    "                   'cabin_T'\n",
    "                   ]\n",
    "\n",
    "df_train_X = df[columns_to_keep].iloc[:891]\n",
    "\n",
    "df_test = df[columns_to_keep].iloc[891:]\n",
    "\n",
    "df_train_y = df['Survived'].iloc[: 891]\n",
    "\n",
    "####\n",
    "clf = RandomForestClassifier(n_estimators = 20)\n",
    "\n",
    "clf.fit(df_train_X, df_train_y)\n",
    "\n",
    "result = clf.predict(df_test)"
   ]
  },
  {
   "cell_type": "code",
   "execution_count": 153,
   "metadata": {},
   "outputs": [],
   "source": [
    "####################\n",
    "### SAVE DATA\n",
    "\n",
    "diccionario = {'PassengerId' : test['PassengerId'], 'Survived' : result}\n",
    "submit = pd.DataFrame(diccionario)\n",
    "submit.Survived = submit.Survived.astype('int')\n",
    "# submit.to_csv('data/randomforest_06_RF_cabin_nan_estimator20.csv', index=False)"
   ]
  },
  {
   "cell_type": "code",
   "execution_count": 154,
   "metadata": {},
   "outputs": [
    {
     "data": {
      "text/html": [
       "<div>\n",
       "<style scoped>\n",
       "    .dataframe tbody tr th:only-of-type {\n",
       "        vertical-align: middle;\n",
       "    }\n",
       "\n",
       "    .dataframe tbody tr th {\n",
       "        vertical-align: top;\n",
       "    }\n",
       "\n",
       "    .dataframe thead th {\n",
       "        text-align: right;\n",
       "    }\n",
       "</style>\n",
       "<table border=\"1\" class=\"dataframe\">\n",
       "  <thead>\n",
       "    <tr style=\"text-align: right;\">\n",
       "      <th></th>\n",
       "      <th>PassengerId</th>\n",
       "      <th>Pclass</th>\n",
       "      <th>Name</th>\n",
       "      <th>Sex</th>\n",
       "      <th>Age</th>\n",
       "      <th>SibSp</th>\n",
       "      <th>Parch</th>\n",
       "      <th>Ticket</th>\n",
       "      <th>Fare</th>\n",
       "      <th>Cabin</th>\n",
       "      <th>Embarked</th>\n",
       "      <th>Survived</th>\n",
       "    </tr>\n",
       "  </thead>\n",
       "  <tbody>\n",
       "    <tr>\n",
       "      <th>0</th>\n",
       "      <td>892</td>\n",
       "      <td>3</td>\n",
       "      <td>Kelly, Mr. James</td>\n",
       "      <td>male</td>\n",
       "      <td>34.5</td>\n",
       "      <td>0</td>\n",
       "      <td>0</td>\n",
       "      <td>330911</td>\n",
       "      <td>7.8292</td>\n",
       "      <td>NaN</td>\n",
       "      <td>Q</td>\n",
       "      <td>NaN</td>\n",
       "    </tr>\n",
       "    <tr>\n",
       "      <th>1</th>\n",
       "      <td>893</td>\n",
       "      <td>3</td>\n",
       "      <td>Wilkes, Mrs. James (Ellen Needs)</td>\n",
       "      <td>female</td>\n",
       "      <td>47.0</td>\n",
       "      <td>1</td>\n",
       "      <td>0</td>\n",
       "      <td>363272</td>\n",
       "      <td>7.0000</td>\n",
       "      <td>NaN</td>\n",
       "      <td>S</td>\n",
       "      <td>NaN</td>\n",
       "    </tr>\n",
       "    <tr>\n",
       "      <th>2</th>\n",
       "      <td>894</td>\n",
       "      <td>2</td>\n",
       "      <td>Myles, Mr. Thomas Francis</td>\n",
       "      <td>male</td>\n",
       "      <td>62.0</td>\n",
       "      <td>0</td>\n",
       "      <td>0</td>\n",
       "      <td>240276</td>\n",
       "      <td>9.6875</td>\n",
       "      <td>NaN</td>\n",
       "      <td>Q</td>\n",
       "      <td>NaN</td>\n",
       "    </tr>\n",
       "    <tr>\n",
       "      <th>3</th>\n",
       "      <td>895</td>\n",
       "      <td>3</td>\n",
       "      <td>Wirz, Mr. Albert</td>\n",
       "      <td>male</td>\n",
       "      <td>27.0</td>\n",
       "      <td>0</td>\n",
       "      <td>0</td>\n",
       "      <td>315154</td>\n",
       "      <td>8.6625</td>\n",
       "      <td>NaN</td>\n",
       "      <td>S</td>\n",
       "      <td>NaN</td>\n",
       "    </tr>\n",
       "    <tr>\n",
       "      <th>4</th>\n",
       "      <td>896</td>\n",
       "      <td>3</td>\n",
       "      <td>Hirvonen, Mrs. Alexander (Helga E Lindqvist)</td>\n",
       "      <td>female</td>\n",
       "      <td>22.0</td>\n",
       "      <td>1</td>\n",
       "      <td>1</td>\n",
       "      <td>3101298</td>\n",
       "      <td>12.2875</td>\n",
       "      <td>NaN</td>\n",
       "      <td>S</td>\n",
       "      <td>NaN</td>\n",
       "    </tr>\n",
       "    <tr>\n",
       "      <th>...</th>\n",
       "      <td>...</td>\n",
       "      <td>...</td>\n",
       "      <td>...</td>\n",
       "      <td>...</td>\n",
       "      <td>...</td>\n",
       "      <td>...</td>\n",
       "      <td>...</td>\n",
       "      <td>...</td>\n",
       "      <td>...</td>\n",
       "      <td>...</td>\n",
       "      <td>...</td>\n",
       "      <td>...</td>\n",
       "    </tr>\n",
       "    <tr>\n",
       "      <th>413</th>\n",
       "      <td>1305</td>\n",
       "      <td>3</td>\n",
       "      <td>Spector, Mr. Woolf</td>\n",
       "      <td>male</td>\n",
       "      <td>NaN</td>\n",
       "      <td>0</td>\n",
       "      <td>0</td>\n",
       "      <td>A.5. 3236</td>\n",
       "      <td>8.0500</td>\n",
       "      <td>NaN</td>\n",
       "      <td>S</td>\n",
       "      <td>NaN</td>\n",
       "    </tr>\n",
       "    <tr>\n",
       "      <th>414</th>\n",
       "      <td>1306</td>\n",
       "      <td>1</td>\n",
       "      <td>Oliva y Ocana, Dona. Fermina</td>\n",
       "      <td>female</td>\n",
       "      <td>39.0</td>\n",
       "      <td>0</td>\n",
       "      <td>0</td>\n",
       "      <td>PC 17758</td>\n",
       "      <td>108.9000</td>\n",
       "      <td>C105</td>\n",
       "      <td>C</td>\n",
       "      <td>NaN</td>\n",
       "    </tr>\n",
       "    <tr>\n",
       "      <th>415</th>\n",
       "      <td>1307</td>\n",
       "      <td>3</td>\n",
       "      <td>Saether, Mr. Simon Sivertsen</td>\n",
       "      <td>male</td>\n",
       "      <td>38.5</td>\n",
       "      <td>0</td>\n",
       "      <td>0</td>\n",
       "      <td>SOTON/O.Q. 3101262</td>\n",
       "      <td>7.2500</td>\n",
       "      <td>NaN</td>\n",
       "      <td>S</td>\n",
       "      <td>NaN</td>\n",
       "    </tr>\n",
       "    <tr>\n",
       "      <th>416</th>\n",
       "      <td>1308</td>\n",
       "      <td>3</td>\n",
       "      <td>Ware, Mr. Frederick</td>\n",
       "      <td>male</td>\n",
       "      <td>NaN</td>\n",
       "      <td>0</td>\n",
       "      <td>0</td>\n",
       "      <td>359309</td>\n",
       "      <td>8.0500</td>\n",
       "      <td>NaN</td>\n",
       "      <td>S</td>\n",
       "      <td>NaN</td>\n",
       "    </tr>\n",
       "    <tr>\n",
       "      <th>417</th>\n",
       "      <td>1309</td>\n",
       "      <td>3</td>\n",
       "      <td>Peter, Master. Michael J</td>\n",
       "      <td>male</td>\n",
       "      <td>NaN</td>\n",
       "      <td>1</td>\n",
       "      <td>1</td>\n",
       "      <td>2668</td>\n",
       "      <td>22.3583</td>\n",
       "      <td>NaN</td>\n",
       "      <td>C</td>\n",
       "      <td>NaN</td>\n",
       "    </tr>\n",
       "  </tbody>\n",
       "</table>\n",
       "<p>418 rows × 12 columns</p>\n",
       "</div>"
      ],
      "text/plain": [
       "     PassengerId  Pclass                                          Name  \\\n",
       "0            892       3                              Kelly, Mr. James   \n",
       "1            893       3              Wilkes, Mrs. James (Ellen Needs)   \n",
       "2            894       2                     Myles, Mr. Thomas Francis   \n",
       "3            895       3                              Wirz, Mr. Albert   \n",
       "4            896       3  Hirvonen, Mrs. Alexander (Helga E Lindqvist)   \n",
       "..           ...     ...                                           ...   \n",
       "413         1305       3                            Spector, Mr. Woolf   \n",
       "414         1306       1                  Oliva y Ocana, Dona. Fermina   \n",
       "415         1307       3                  Saether, Mr. Simon Sivertsen   \n",
       "416         1308       3                           Ware, Mr. Frederick   \n",
       "417         1309       3                      Peter, Master. Michael J   \n",
       "\n",
       "        Sex   Age  SibSp  Parch              Ticket      Fare Cabin Embarked  \\\n",
       "0      male  34.5      0      0              330911    7.8292   NaN        Q   \n",
       "1    female  47.0      1      0              363272    7.0000   NaN        S   \n",
       "2      male  62.0      0      0              240276    9.6875   NaN        Q   \n",
       "3      male  27.0      0      0              315154    8.6625   NaN        S   \n",
       "4    female  22.0      1      1             3101298   12.2875   NaN        S   \n",
       "..      ...   ...    ...    ...                 ...       ...   ...      ...   \n",
       "413    male   NaN      0      0           A.5. 3236    8.0500   NaN        S   \n",
       "414  female  39.0      0      0            PC 17758  108.9000  C105        C   \n",
       "415    male  38.5      0      0  SOTON/O.Q. 3101262    7.2500   NaN        S   \n",
       "416    male   NaN      0      0              359309    8.0500   NaN        S   \n",
       "417    male   NaN      1      1                2668   22.3583   NaN        C   \n",
       "\n",
       "     Survived  \n",
       "0         NaN  \n",
       "1         NaN  \n",
       "2         NaN  \n",
       "3         NaN  \n",
       "4         NaN  \n",
       "..        ...  \n",
       "413       NaN  \n",
       "414       NaN  \n",
       "415       NaN  \n",
       "416       NaN  \n",
       "417       NaN  \n",
       "\n",
       "[418 rows x 12 columns]"
      ]
     },
     "execution_count": 154,
     "metadata": {},
     "output_type": "execute_result"
    }
   ],
   "source": [
    "data_test"
   ]
  },
  {
   "cell_type": "code",
   "execution_count": 155,
   "metadata": {},
   "outputs": [],
   "source": [
    "a = a.dropna(subset='Survived')"
   ]
  },
  {
   "cell_type": "code",
   "execution_count": 156,
   "metadata": {},
   "outputs": [
    {
     "data": {
      "image/png": "[encoded data removed]",
      "text/plain": [
       "<Figure size 1600x700 with 2 Axes>"
      ]
     },
     "metadata": {},
     "output_type": "display_data"
    }
   ],
   "source": [
    "import seaborn as sns\n",
    "correlation = a.corr()\n",
    "\n",
    "plt.figure(figsize=(16, 7))\n",
    "heatmap = sns.heatmap(correlation, annot=True, fmt=\".2f\", cmap='BrBG', vmin=-1, vmax=1)\n",
    "heatmap.set_title('Correlation', fontdict={'fontsize':18}, pad=12);\n",
    "\n",
    "plt.show()"
   ]
  },
  {
   "cell_type": "code",
   "execution_count": null,
   "metadata": {},
   "outputs": [],
   "source": []
  },
  {
   "cell_type": "code",
   "execution_count": null,
   "metadata": {},
   "outputs": [],
   "source": []
  },
  {
   "cell_type": "code",
   "execution_count": null,
   "metadata": {},
   "outputs": [],
   "source": []
  },
  {
   "cell_type": "code",
   "execution_count": null,
   "metadata": {},
   "outputs": [],
   "source": []
  }
 ],
 "metadata": {
  "kernelspec": {
   "display_name": "env",
   "language": "python",
   "name": "python3"
  },
  "language_info": {
   "codemirror_mode": {
    "name": "ipython",
    "version": 3
   },
   "file_extension": ".py",
   "mimetype": "text/x-python",
   "name": "python",
   "nbconvert_exporter": "python",
   "pygments_lexer": "ipython3",
   "version": "3.10.12"
  }
 },
 "nbformat": 4,
 "nbformat_minor": 2
}
