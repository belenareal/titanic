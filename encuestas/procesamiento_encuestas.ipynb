{
 "cells": [
  {
   "cell_type": "markdown",
   "metadata": {},
   "source": [
    "### Procesamiento de encuestas\n",
    "* Versión 2023 "
   ]
  },
  {
   "cell_type": "code",
   "execution_count": 4,
   "metadata": {},
   "outputs": [],
   "source": [
    "from datetime import datetime\n",
    "import random\n",
    "import os as os\n",
    "\n",
    "\n",
    "import pandas as pd\n",
    "import matplotlib.pyplot as plt\n",
    "import numpy as np\n",
    "from tqdm.notebook import tqdm \n",
    "\n",
    "from src.load_data import load_from_folder\n",
    "# from src.survey import remove_basic_columns\n",
    "# from src.survey import rename_columns"
   ]
  },
  {
   "cell_type": "code",
   "execution_count": 7,
   "metadata": {},
   "outputs": [
    {
     "ename": "FileNotFoundError",
     "evalue": "[Errno 2] No such file or directory: '../data/data_encuesta/Argentina_CABA_2023_10'",
     "output_type": "error",
     "traceback": [
      "\u001b[0;31m---------------------------------------------------------------------------\u001b[0m",
      "\u001b[0;31mFileNotFoundError\u001b[0m                         Traceback (most recent call last)",
      "\u001b[1;32m/home/user/Git/QSocialNow/encuestas/procesamiento_encuestas.ipynb Cell 3\u001b[0m line \u001b[0;36m6\n\u001b[1;32m      <a href='vscode-notebook-cell:/home/user/Git/QSocialNow/encuestas/procesamiento_encuestas.ipynb#W0sZmlsZQ%3D%3D?line=1'>2</a>\u001b[0m date \u001b[39m=\u001b[39m \u001b[39m'\u001b[39m\u001b[39m2023_10\u001b[39m\u001b[39m'\u001b[39m\n\u001b[1;32m      <a href='vscode-notebook-cell:/home/user/Git/QSocialNow/encuestas/procesamiento_encuestas.ipynb#W0sZmlsZQ%3D%3D?line=3'>4</a>\u001b[0m data_folder \u001b[39m=\u001b[39m \u001b[39mf\u001b[39m\u001b[39m\"\u001b[39m\u001b[39m../data/data_encuesta/\u001b[39m\u001b[39m{\u001b[39;00mnombre\u001b[39m}\u001b[39;00m\u001b[39m_\u001b[39m\u001b[39m{\u001b[39;00mdate\u001b[39m}\u001b[39;00m\u001b[39m\"\u001b[39m\n\u001b[0;32m----> <a href='vscode-notebook-cell:/home/user/Git/QSocialNow/encuestas/procesamiento_encuestas.ipynb#W0sZmlsZQ%3D%3D?line=5'>6</a>\u001b[0m respuestas \u001b[39m=\u001b[39m load_from_folder(\u001b[39mf\u001b[39;49m\u001b[39m'\u001b[39;49m\u001b[39m{\u001b[39;49;00mdata_folder\u001b[39m}\u001b[39;49;00m\u001b[39m'\u001b[39;49m)\n",
      "File \u001b[0;32m~/Git/QSocialNow/encuestas/src/load_data.py:6\u001b[0m, in \u001b[0;36mload_from_folder\u001b[0;34m(folder_dir)\u001b[0m\n\u001b[1;32m      5\u001b[0m \u001b[39mdef\u001b[39;00m \u001b[39mload_from_folder\u001b[39m(folder_dir):\n\u001b[0;32m----> 6\u001b[0m     n_folder \u001b[39m=\u001b[39m os\u001b[39m.\u001b[39;49mlistdir(folder_dir)\n\u001b[1;32m      7\u001b[0m     archive \u001b[39m=\u001b[39m []\n\u001b[1;32m      8\u001b[0m     \u001b[39mfor\u001b[39;00m file_name \u001b[39min\u001b[39;00m n_folder:\n",
      "\u001b[0;31mFileNotFoundError\u001b[0m: [Errno 2] No such file or directory: '../data/data_encuesta/Argentina_CABA_2023_10'"
     ]
    }
   ],
   "source": [
    "nombre = 'Argentina_CABA'\n",
    "date = '2023_10'\n",
    "\n",
    "data_folder = f\"../data/data_encuesta/{nombre}_{date}\"\n",
    "\n",
    "respuestas = load_from_folder(f'{data_folder}') "
   ]
  },
  {
   "cell_type": "code",
   "execution_count": null,
   "metadata": {},
   "outputs": [],
   "source": [
    "survey = survey.drop(columns=['ID', \n",
    "                              'Started on', \n",
    "                              'Last updated on', \n",
    "                              'IP address', \n",
    "                              'Status', \n",
    "                              'Collector', \n",
    "                              'Language', \n",
    "                              'Device', \n",
    "                              '{fbclid}', \n",
    "                              'Nombre y Apellido', \n",
    "                              'Numero de Documento', \n",
    "                              'Email', \n",
    "                              'Número de Teléfono', \n",
    "                              'Número de Celular'])\n"
   ]
  }
 ],
 "metadata": {
  "kernelspec": {
   "display_name": "env",
   "language": "python",
   "name": "python3"
  },
  "language_info": {
   "codemirror_mode": {
    "name": "ipython",
    "version": 3
   },
   "file_extension": ".py",
   "mimetype": "text/x-python",
   "name": "python",
   "nbconvert_exporter": "python",
   "pygments_lexer": "ipython3",
   "version": "3.10.7"
  }
 },
 "nbformat": 4,
 "nbformat_minor": 2
}
